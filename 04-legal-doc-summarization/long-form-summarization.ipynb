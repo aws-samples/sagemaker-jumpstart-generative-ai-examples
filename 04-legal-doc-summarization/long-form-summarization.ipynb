{
 "cells": [
  {
   "cell_type": "markdown",
   "id": "15961f18-d3a9-487a-bdcb-8262a3559aba",
   "metadata": {
    "tags": []
   },
   "source": [
    "# Long Form Text Summarization using JumpStart Foundation Model  "
   ]
  },
  {
   "cell_type": "code",
   "execution_count": 3,
   "id": "6878b09a-a77a-4e45-bed9-c5d86c92b6e8",
   "metadata": {
    "tags": []
   },
   "outputs": [],
   "source": [
    "%%capture \n",
    "\n",
    "!pip install cohere_sagemaker\n",
    "!pip install pandas\n",
    "!pip install tqdm"
   ]
  },
  {
   "cell_type": "code",
   "execution_count": null,
   "id": "14875767-3da4-4c00-8ea9-fa62a3c3ed71",
   "metadata": {
    "tags": []
   },
   "outputs": [],
   "source": [
    "from sagemaker import get_execution_role\n",
    "from cohere_sagemaker import CohereError\n",
    "from cohere_sagemaker import Client\n",
    "from sagemaker import ModelPackage\n",
    "import cohere_sagemaker\n",
    "from tqdm import tqdm\n",
    "import pandas as pd\n",
    "import numpy as np\n",
    "import sagemaker\n",
    "import logging\n",
    "import boto3\n",
    "import time\n",
    "import re\n",
    "import json"
   ]
  },
  {
   "cell_type": "markdown",
   "id": "a0a91625-57ea-4b19-be66-58a0155492d0",
   "metadata": {
    "tags": []
   },
   "source": [
    "## Part - I: Hosting the foundation model for real-time inference "
   ]
  },
  {
   "cell_type": "markdown",
   "id": "cd748ea5-ae04-4d85-8a6e-fe6632b7ecd5",
   "metadata": {},
   "source": [
    "#### I. Imports "
   ]
  },
  {
   "cell_type": "markdown",
   "id": "95d35c85-fac3-4fa6-877a-2246fba8f721",
   "metadata": {},
   "source": [
    "#### Setup Logging "
   ]
  },
  {
   "cell_type": "code",
   "execution_count": 5,
   "id": "07e14df3-fca6-4bdb-8a08-38d7317e2510",
   "metadata": {
    "tags": []
   },
   "outputs": [],
   "source": [
    "logger = logging.getLogger('sagemaker')\n",
    "logger.setLevel(logging.DEBUG)\n",
    "logger.addHandler(logging.StreamHandler())"
   ]
  },
  {
   "cell_type": "markdown",
   "id": "a268eb12-e655-447b-97dd-7a58259823d2",
   "metadata": {},
   "source": [
    "##### Log versions of dependencies "
   ]
  },
  {
   "cell_type": "code",
   "execution_count": 6,
   "id": "e312761d-7a08-4038-94a8-03034092031d",
   "metadata": {
    "tags": []
   },
   "outputs": [
    {
     "name": "stderr",
     "output_type": "stream",
     "text": [
      "[Using SageMaker version: 2.145.0]\n",
      "[Using Boto3 version: 1.26.111]\n"
     ]
    }
   ],
   "source": [
    "logger.info(f'[Using SageMaker version: {sagemaker.__version__}]')\n",
    "logger.info(f'[Using Boto3 version: {boto3.__version__}]')"
   ]
  },
  {
   "cell_type": "markdown",
   "id": "f2da9b21-2e08-418f-8c4b-42b2a33ddf61",
   "metadata": {},
   "source": [
    "#### II. Setup essentials "
   ]
  },
  {
   "cell_type": "markdown",
   "id": "5adc66e6-5320-4cf0-97bc-3431c1fe3119",
   "metadata": {
    "tags": []
   },
   "source": [
    "Mapping for Model Packages (initially only us-east-1 and eu-west-1 is supported)"
   ]
  },
  {
   "cell_type": "code",
   "execution_count": 7,
   "id": "d0003673-c89d-451d-9e64-a7cbdb12ff79",
   "metadata": {
    "tags": []
   },
   "outputs": [],
   "source": [
    "model_package_map = {\n",
    "    'us-east-1': 'arn:aws:sagemaker:us-east-1:865070037744:model-package/cohere-gpt-medium-v1-4-825b877abfd53d7ca65fd7b4b262c421',\n",
    "    'eu-west-1': 'arn:aws:sagemaker:eu-west-1:985815980388:model-package/cohere-gpt-medium-v1-4-825b877abfd53d7ca65fd7b4b262c421'\n",
    "}"
   ]
  },
  {
   "cell_type": "code",
   "execution_count": 8,
   "id": "dbbc6314-af70-4c0e-948b-07281f92fadd",
   "metadata": {
    "tags": []
   },
   "outputs": [
    {
     "name": "stderr",
     "output_type": "stream",
     "text": [
      "Region = us-east-1\n"
     ]
    }
   ],
   "source": [
    "region = boto3.Session().region_name\n",
    "logger.info(f'Region = {region}')"
   ]
  },
  {
   "cell_type": "code",
   "execution_count": 9,
   "id": "a2390933-932e-40fa-9a43-184732af08bd",
   "metadata": {
    "tags": []
   },
   "outputs": [],
   "source": [
    "if region not in model_package_map.keys():\n",
    "    raise Exception(f'Unsupported region = {region}')"
   ]
  },
  {
   "cell_type": "code",
   "execution_count": 10,
   "id": "2dda2dc1-8d66-469d-a55a-88800189aa5a",
   "metadata": {
    "tags": []
   },
   "outputs": [
    {
     "name": "stderr",
     "output_type": "stream",
     "text": [
      "Model package ARN = arn:aws:sagemaker:us-east-1:865070037744:model-package/cohere-gpt-medium-v1-4-825b877abfd53d7ca65fd7b4b262c421\n"
     ]
    }
   ],
   "source": [
    "MODEL_PACKAGE_ARN = model_package_map[region]\n",
    "logger.info(f'Model package ARN = {MODEL_PACKAGE_ARN}')"
   ]
  },
  {
   "cell_type": "code",
   "execution_count": 11,
   "id": "abad4e24-3a4f-48c7-b101-d5beebc671f8",
   "metadata": {
    "tags": []
   },
   "outputs": [
    {
     "name": "stderr",
     "output_type": "stream",
     "text": [
      "Role = arn:aws:iam::571744842822:role/service-role/AmazonSageMaker-ExecutionRole-20230311T222368\n"
     ]
    }
   ],
   "source": [
    "ROLE = get_execution_role()\n",
    "session = sagemaker.Session()\n",
    "logger.info(f'Role = {ROLE}')"
   ]
  },
  {
   "cell_type": "code",
   "execution_count": 12,
   "id": "a058120d-959c-438d-84dd-654a4a59b281",
   "metadata": {
    "tags": []
   },
   "outputs": [],
   "source": [
    "timestamp = int(time.time())\n",
    "MODEL_NAME = f'cohere-medium-{timestamp}'"
   ]
  },
  {
   "cell_type": "markdown",
   "id": "df073add-7a6c-4cc2-9f18-f1ac530656c6",
   "metadata": {},
   "source": [
    "#### III. Create a SageMaker endpoint for real-time inference "
   ]
  },
  {
   "cell_type": "code",
   "execution_count": 13,
   "id": "e7bc86f6-80cd-4a69-9cc8-d1a6d8eec9a4",
   "metadata": {
    "tags": []
   },
   "outputs": [
    {
     "data": {
      "text/plain": [
       "{'model_data': None,\n",
       " 'image_uri': None,\n",
       " 'predictor_cls': None,\n",
       " 'env': {},\n",
       " 'name': 'cohere-medium-1682210141',\n",
       " '_base_name': None,\n",
       " 'sagemaker_session': <sagemaker.session.Session at 0x7f651f94b750>,\n",
       " 'role': 'arn:aws:iam::571744842822:role/service-role/AmazonSageMaker-ExecutionRole-20230311T222368',\n",
       " 'vpc_config': None,\n",
       " 'endpoint_name': None,\n",
       " '_is_compiled_model': False,\n",
       " '_compilation_job_name': None,\n",
       " '_is_edge_packaged_model': False,\n",
       " 'inference_recommender_job_results': None,\n",
       " 'inference_recommendations': None,\n",
       " '_enable_network_isolation': False,\n",
       " 'model_kms_key': None,\n",
       " 'image_config': None,\n",
       " 'entry_point': None,\n",
       " 'source_dir': None,\n",
       " 'dependencies': [],\n",
       " 'git_config': None,\n",
       " 'container_log_level': 20,\n",
       " 'bucket': None,\n",
       " 'key_prefix': None,\n",
       " 'uploaded_code': None,\n",
       " 'repacked_model_data': None,\n",
       " 'algorithm_arn': None,\n",
       " 'model_package_arn': 'arn:aws:sagemaker:us-east-1:865070037744:model-package/cohere-gpt-medium-v1-4-825b877abfd53d7ca65fd7b4b262c421',\n",
       " '_created_model_package_name': None}"
      ]
     },
     "execution_count": 13,
     "metadata": {},
     "output_type": "execute_result"
    }
   ],
   "source": [
    "model = ModelPackage(role=ROLE, \n",
    "                     model_package_arn=MODEL_PACKAGE_ARN, \n",
    "                     sagemaker_session=session, \n",
    "                     name=MODEL_NAME)\n",
    "model.__dict__"
   ]
  },
  {
   "cell_type": "code",
   "execution_count": 14,
   "id": "ad66dc5c-566b-4676-bdbb-88859b5588a0",
   "metadata": {
    "tags": []
   },
   "outputs": [],
   "source": [
    "NUM_INSTANCES = 1\n",
    "INSTANCE_TYPE = 'ml.g5.xlarge'"
   ]
  },
  {
   "cell_type": "code",
   "execution_count": 15,
   "id": "235c65cd-2b70-4f3d-8ab9-05d24f47a4a4",
   "metadata": {
    "tags": []
   },
   "outputs": [
    {
     "name": "stderr",
     "output_type": "stream",
     "text": [
      "Creating model with name: cohere-medium-1682210141\n",
      "CreateModel request: {\n",
      "    \"ModelName\": \"cohere-medium-1682210141\",\n",
      "    \"ExecutionRoleArn\": \"arn:aws:iam::571744842822:role/service-role/AmazonSageMaker-ExecutionRole-20230311T222368\",\n",
      "    \"Containers\": [\n",
      "        {\n",
      "            \"ModelPackageName\": \"arn:aws:sagemaker:us-east-1:865070037744:model-package/cohere-gpt-medium-v1-4-825b877abfd53d7ca65fd7b4b262c421\"\n",
      "        }\n",
      "    ],\n",
      "    \"EnableNetworkIsolation\": true\n",
      "}\n",
      "Creating endpoint-config with name cohere-medium-1682210141\n",
      "Creating endpoint with name cohere-medium-1682210141\n"
     ]
    },
    {
     "name": "stdout",
     "output_type": "stream",
     "text": [
      "----------!CPU times: user 191 ms, sys: 9.7 ms, total: 201 ms\n",
      "Wall time: 5min 33s\n"
     ]
    }
   ],
   "source": [
    "%%time\n",
    "\n",
    "model.deploy(NUM_INSTANCES, \n",
    "             INSTANCE_TYPE, \n",
    "             endpoint_name=MODEL_NAME)"
   ]
  },
  {
   "cell_type": "markdown",
   "id": "501a49ff-04e0-4955-bf38-bf5188c5445d",
   "metadata": {},
   "source": [
    "## Part 2: Long-form abstractive text summarization of legal judgement docs"
   ]
  },
  {
   "cell_type": "markdown",
   "id": "4ea909b2-32d1-496c-b9f2-ff64687d21d6",
   "metadata": {
    "tags": []
   },
   "source": [
    "#### I. Read, parse and chunk docs "
   ]
  },
  {
   "cell_type": "code",
   "execution_count": 16,
   "id": "b0292a2c-f748-4a70-bbb5-99abb1c3d7af",
   "metadata": {
    "tags": []
   },
   "outputs": [],
   "source": [
    "doc_name = '5.txt'"
   ]
  },
  {
   "cell_type": "code",
   "execution_count": 17,
   "id": "398c16c4-227e-453d-b1de-a797e9df3745",
   "metadata": {
    "tags": []
   },
   "outputs": [],
   "source": [
    "cleaned_lines = []\n",
    "with open(f'./docs/{doc_name}', encoding='iso-8859-1') as doc:\n",
    "    for line in doc.readlines():\n",
    "        line = line.strip()\n",
    "        line = re.sub(' +', ' ', line)\n",
    "        line = line.replace('\\n', '')\n",
    "        line = line.replace('\\t', '')\n",
    "        line = line.replace('  ', ' ')\n",
    "        if len(line) > 0:\n",
    "            cleaned_lines.append(line)"
   ]
  },
  {
   "cell_type": "code",
   "execution_count": 18,
   "id": "e04bf171-b616-40ef-88a5-3af6684ca010",
   "metadata": {
    "tags": []
   },
   "outputs": [
    {
     "data": {
      "text/plain": [
       "4168"
      ]
     },
     "execution_count": 18,
     "metadata": {},
     "output_type": "execute_result"
    }
   ],
   "source": [
    "doc = ' '.join(cleaned_lines)\n",
    "doc = doc.split()\n",
    "len(doc)"
   ]
  },
  {
   "cell_type": "code",
   "execution_count": 19,
   "id": "97c3297f-b741-41c8-b051-2932dc480306",
   "metadata": {
    "tags": []
   },
   "outputs": [],
   "source": [
    "chunk_size = 768\n",
    "chunks = [' '.join(doc[i:i+chunk_size]) for i in range(0, len(doc), chunk_size)]"
   ]
  },
  {
   "cell_type": "code",
   "execution_count": 20,
   "id": "f1bd4c8b-71cc-46ef-a666-361ccb1f49b7",
   "metadata": {
    "tags": []
   },
   "outputs": [
    {
     "data": {
      "text/plain": [
       "6"
      ]
     },
     "execution_count": 20,
     "metadata": {},
     "output_type": "execute_result"
    }
   ],
   "source": [
    "len(chunks)"
   ]
  },
  {
   "cell_type": "code",
   "execution_count": 21,
   "id": "2de7e62e-7aac-4ae5-a2c0-a10b62a02fbf",
   "metadata": {
    "tags": []
   },
   "outputs": [
    {
     "data": {
      "text/plain": [
       "'Civil Appeal No. 8 of 1951. Appeal from the judgment and decree dated 12th October, 1944, of the High Court of Judicature at Allahabad (Allsop and Malik JJ.)in First Appeal No. 374 of 1941 arising out of a Decree dated 31st July, 1941, of the Court of the Civil Judge, Moradabad, in Original Suit No. 9 of 1941. Bakshi Tek Chand (section K. Kapoor, with him) for the appel lant. Achhru Ram (Jwala Prasad, with him) for the respondent. February 22. The judgment of the Court was deliv ered by BoSE J. This is a litigation between two branches of a family whose common ancestor was one Megh Raj Singh The family tree is as follows: Megh Raj Singh Jawahar Singh Madan Singh Shankar Lal(d 1884) Brijlal (d. 1889 or (1890) Daughter: Met. Mohan Dei (d. Oct 1929) Kishan Lal Mahabir Prasad Husband: Narain Das (d. 21 5 1940) (d. 1921) Shri Kishan Das Mst. Deoki Jugal Kishore Amar Nath (d.march 1929) (d. 1894) Plff. 1 Plff.2. Dhiyan Singh Jai Bhagwan Singh Deft. 1 Deft. 2 Ghas Ram Onkar Prasad The dispute is about property which, according to the plaintiffs, formed part of Shanker Lal \\'s estate. The plain tiffs state that the two branches of the family were sepa rate at all material times; that on 480 Shanker Lal \\'s death in 1884 his daughter Mst. Mohan Dei (the defendants \\' grandmother) succeeded to a limited estate. The reversion opened out on her death in October 1929 and the plaintiffs are entitled as the next reversioners, for Mst. Mohan Dei \\'s son Shri Kishan Das predeceased her. The defendants admit that Shanker Lal was separate from the other branch of the family. They divide the property which their grandmother Mst. Mohan Dei possessed into two categories. First, there was property which they say be longed to her. These are properties which, according to them, she purchased or obtained under mortgages in her own right. Next, there were properties which belonged exclu sively to her father and to which she succeeded as daughter. On Shanker Lal \\'s death disputes arose between Shanker Lal \\'s father \\'s brother \\'s son Brijlal (the plaintiffs \\' grandfa ther) and the defendants \\' grandmother Mst. Mohan Dei. Brijlal claimed the entire estate by survivorship, his allegation being that Shanker Lal died in a state of joint ness with him and that all the properties were joint family properties. This dispute was referred to arbitration and an award was delivered. Under it Mst. Mohan Dei was given the suit properties as absolute owner and the rest of the estate then in dispute was given to Brijlal, A division was ef fected accordingly and ever since, that is to say, from 21 12 1884, the date of the award, down to 26 3 1941, the date of the suit, each branch has been in separate and uninter rupted possession of the properties respectively allotted to it and each has been dealing with them as absolute owner. The defendants claim that the plaintiffs are bound by this award and are in any event estopped. The plaintiffs lost in the first Court but won in the High Court. The defendants appeal. The first question is about the nature of the award. The defendants say that it gave Mst. Mohan Dei an absolute estate. The plaintiffs deny this and say she obtained only a limited estate. In our opinion, the defendants are right. 481 The question at issue is a simple one of construction. The award is exhibit A 1. The operative portion runs thus: \"Having regard to the specifications give above, Brij Lal, first party, and Musammat Mohan Devi, the deceased \\'s female issue, second party, have been held entitled to shares, worth Rs. 28,500 and Rs. 42,482 10 0 respective ly in the said properties; and accordingly. two lots have been made and the first lot is allotted to the first party and the second lot to the second party; and henceforth the parties shall have no claim or liability against each other; and each party has become permanent owner (malikmustaqil) of his or her share; and each party should enter in proprietary possession and occupation of his or her respective share. \" The underlining is ours. We do not think the words admit of any doubt, particu larly as the words \"malik mustaqil\" have been used: see Ram Gopal vs Nand Lal and Others (1) and Bishunath Prasad Singh vs Chandika Prasad Kumari (2). But it was argued that the award must be viewed as a whole and that certain earlier passages show that'"
      ]
     },
     "execution_count": 21,
     "metadata": {},
     "output_type": "execute_result"
    }
   ],
   "source": [
    "chunks[0]"
   ]
  },
  {
   "cell_type": "markdown",
   "id": "c0e178c9-371f-4320-8675-94676147af97",
   "metadata": {
    "tags": []
   },
   "source": [
    "#### II. Short-form Abstractive Text Summarization"
   ]
  },
  {
   "cell_type": "code",
   "execution_count": 22,
   "id": "ad86bc79-1df9-45af-aa66-4073b8269f80",
   "metadata": {
    "tags": []
   },
   "outputs": [],
   "source": [
    "ENDPOINT_NAME = 'cohere-medium-1682210141'\n",
    "# ENDPOINT_NAME = MODEL_NAME"
   ]
  },
  {
   "cell_type": "code",
   "execution_count": 26,
   "id": "c683d6bb-196d-4779-bd3e-c5cc92556988",
   "metadata": {
    "tags": []
   },
   "outputs": [],
   "source": [
    "client = Client(endpoint_name=ENDPOINT_NAME)"
   ]
  },
  {
   "cell_type": "code",
   "execution_count": 27,
   "id": "398cefc4-9fe3-4b4e-ad7d-acbe5dcafc6d",
   "metadata": {
    "tags": []
   },
   "outputs": [],
   "source": [
    "summaries_by_chunks = []"
   ]
  },
  {
   "cell_type": "code",
   "execution_count": 28,
   "id": "154424f8-e277-496c-9510-aeea9f9f2378",
   "metadata": {
    "tags": []
   },
   "outputs": [
    {
     "name": "stderr",
     "output_type": "stream",
     "text": [
      "100%|██████████| 6/6 [00:43<00:00,  7.33s/it]"
     ]
    },
    {
     "name": "stdout",
     "output_type": "stream",
     "text": [
      "CPU times: user 38.3 ms, sys: 11 ms, total: 49.3 ms\n",
      "Wall time: 44 s\n"
     ]
    },
    {
     "name": "stderr",
     "output_type": "stream",
     "text": [
      "\n"
     ]
    }
   ],
   "source": [
    "%%time\n",
    "\n",
    "\n",
    "for chunk in tqdm(chunks):\n",
    "    prompt = f'Context = {chunk}\\nSummarize the above context.'\n",
    "    response = client.generate(prompt=prompt, \n",
    "                           max_tokens=256, \n",
    "                           temperature=0.2, \n",
    "                           return_likelihoods='GENERATION')\n",
    "    generated_text = response.generations[0].text\n",
    "    summaries_by_chunks.append(generated_text)\n"
   ]
  },
  {
   "cell_type": "code",
   "execution_count": 29,
   "id": "84046d3c-3621-4cee-836b-dc0d29ae5e2e",
   "metadata": {
    "tags": []
   },
   "outputs": [],
   "source": [
    "cleaned_summaries = []\n",
    "STOP_SEQ = '. '"
   ]
  },
  {
   "cell_type": "code",
   "execution_count": 30,
   "id": "e934d7bb-56a9-46cf-8e79-546dbe4c5ebf",
   "metadata": {
    "tags": []
   },
   "outputs": [],
   "source": [
    "def clean_summary(summary):\n",
    "    valid_sents = []\n",
    "    sents = summary.split(STOP_SEQ)\n",
    "    last_sent = sents[-1]\n",
    "    if not last_sent.endswith('.'):\n",
    "        sents = sents[0:-2]\n",
    "    return ' '.join(sents)"
   ]
  },
  {
   "cell_type": "code",
   "execution_count": 31,
   "id": "a6403ef8-e20c-450e-8833-efc26c76b4d7",
   "metadata": {
    "tags": []
   },
   "outputs": [],
   "source": [
    "for summary in summaries_by_chunks:\n",
    "    summary = summary.replace('\\n', '')\n",
    "    summary = summary.replace('  ', ' ')\n",
    "    summary = summary.replace('\\'', '')\n",
    "    summary = summary.strip()\n",
    "    cleaned_summary = clean_summary(summary)\n",
    "    if not cleaned_summary.endswith('.'):\n",
    "        cleaned_summary = cleaned_summary + '.'\n",
    "    if len(cleaned_summary) >= 64:  # atleast 64 chars\n",
    "        cleaned_summaries.append(cleaned_summary)"
   ]
  },
  {
   "cell_type": "code",
   "execution_count": 32,
   "id": "d2937605-d14b-47d8-897b-6e00e5def613",
   "metadata": {
    "tags": []
   },
   "outputs": [
    {
     "name": "stderr",
     "output_type": "stream",
     "text": [
      "Total number of short summaries generated = 6\n"
     ]
    }
   ],
   "source": [
    "logger.info(f'Total number of short summaries generated = {len(cleaned_summaries)}')"
   ]
  },
  {
   "cell_type": "code",
   "execution_count": 33,
   "id": "0513df39-9ca7-44dc-87ff-f55f26e68488",
   "metadata": {
    "tags": []
   },
   "outputs": [
    {
     "data": {
      "text/plain": [
       "['The context is a civil appeal filed by two branches of a family whose common ancestor was Megh Raj Singh The family tree is as follows: Megh Raj Singh Jawahar Singh Madan Singh Shankar Lal(d 1884) Brijlal (d 1889 or (1890) Daughter: Met Mohan Dei (d Oct 1929) Kishan Lal Mahabir Prasad Husband: Narain Das (d 21 5 1940) (d 1921) Shri Kishan Das Mst Deoki Jugal Kishore Amar Nath (d.march 1929) (d 1894) Plff 1 Plff.2 Dhiyan Singh Jai Bhagwan Singh Deft 1 Deft 2 Ghas Ram Onkar Prasad The dispute is about property which, according to the plaintiffs, formed part of Shanker Lal s estate The plain tiffs state that the two branches of the family were separate at all material times; that on 480 Shanker Lal s death in 1884 his daughter Mst.',\n",
       " 'The context is a legal case where the parties are Brijlal, Shanker Lal, Kishan Lal, and Mohan Dei Brijlal claimed that he was joint with Shanker Lal and so, on Shanker Lal s death, he became entitled to a share of the property Shanker Lals death occurred in 1884 Brijlal made no claim to the property after that date.',\n",
       " 'Mst Mohan Dei claimed maintenance from Mst Brijlal, but he did not have a right to the estate He induced Mst Mohan Dei to believe that he would succeed as the reversioner, which led to him giving up a large portion of the estate He never attempted to go behind his decision.',\n",
       " 'The context is a statement by the applicant that he admitted and recognized facts which would in law give Mst Mohan Dei an absolute interest in the lands awarded to her It was because of that assertion of fact, namely his recognition and admission of the existence of facts which would give Mst Mohan Dei an absolute interest, that she was induced to part with about one third of the property to which Brijlal, on a true estimate of the facts as now known, had no right There can be no doubt that she acted to her detriment and there can, we think, be equally no doubt that she was in duced to do so on the faith of Brijlal s statements and conduct which induced her to believe that he accepted all the implications of the 63 486 award But in any event, we are clear that Brijlal would have been estopped.',\n",
       " 'Mst Mohan Dei died in 1889 Kishan Lal became the next presumptive reversioner and in October, 1929, when the reversion opened out the estate vested in him He died in 1929 Shri Kishan Das, son of Mst Mohan Dei, died in March, 1929 Kishan Lal thereupon became the next presumptive reversioner He died in October, 1929 The question is, did Kishan Lal continue to be bound by the estoppel when he assumed a new character on the opening out of the reversion ? We have no doubt he did The decision of the Judicial Committee which we have just cited, Kanhai Lal vs Brijlal(1), is, we think, clear on that point Although other reversioners who do not claim through the one who has consented are not bound the consenting reversioner is estopped.',\n",
       " 'In the above cases, the plaintiffs claimed that they had obtained a benefit from the compromise The Judicial Committee held that even if it was possible to assign this 13 gundas with certainty to the 12 gundas it by no means followed that the plaintiffs admitted that fact nor would that necessarily have given them a benefit under the compromise They had the right to contest the 490 position and gamble on the possibility of being able to prove the contrary Their Lordships added \" Unless the plaintiffs  individual conduct makes it unjust that they should have a place among Bajrangi Lal s reversioners their legal rights should have effect \" In the other case, Rangasami Gounden vs Nachiappa Goun den(1), their Lordships  decision about this matter turned on the same sort of point: see page 87 The present case is very different When Kishan Lal took possession of his father s property he held by virtue of the award and under no other title, and for forty years he continued to derive benefit from it.']"
      ]
     },
     "execution_count": 33,
     "metadata": {},
     "output_type": "execute_result"
    }
   ],
   "source": [
    "cleaned_summaries"
   ]
  },
  {
   "cell_type": "markdown",
   "id": "0ced2a16-6104-48ec-b224-6bb772f03329",
   "metadata": {
    "tags": []
   },
   "source": [
    "#### III. Question Generation"
   ]
  },
  {
   "cell_type": "code",
   "execution_count": 34,
   "id": "0166b9f9-f74e-41d2-843e-9ad947e0f0de",
   "metadata": {
    "tags": []
   },
   "outputs": [],
   "source": [
    "questions_map = {}\n",
    "total_questions_generated = 0"
   ]
  },
  {
   "cell_type": "code",
   "execution_count": 35,
   "id": "24f4ddd9-1ae3-4f44-b338-e1a48affd4c2",
   "metadata": {
    "tags": []
   },
   "outputs": [],
   "source": [
    "detect_words = ['why', 'how', 'what', 'who', 'where', 'is', 'when', 'which', 'whose', 'are', 'do', 'does', 'can', 'could', 'should', 'will', 'have', 'has']\n",
    "\n",
    "def is_a_question(question):\n",
    "    first_word = question.split()[0]\n",
    "    if first_word.lower() in detect_words:\n",
    "        return True\n",
    "    return False"
   ]
  },
  {
   "cell_type": "code",
   "execution_count": 36,
   "id": "cb4ddcaf-9855-424c-9ce1-ad0e808329d9",
   "metadata": {
    "tags": []
   },
   "outputs": [
    {
     "name": "stderr",
     "output_type": "stream",
     "text": [
      "100%|██████████| 6/6 [01:22<00:00, 13.70s/it]"
     ]
    },
    {
     "name": "stdout",
     "output_type": "stream",
     "text": [
      "CPU times: user 33.2 ms, sys: 4.66 ms, total: 37.9 ms\n",
      "Wall time: 1min 22s\n"
     ]
    },
    {
     "name": "stderr",
     "output_type": "stream",
     "text": [
      "\n"
     ]
    }
   ],
   "source": [
    "%%time\n",
    "\n",
    "for summary in tqdm(cleaned_summaries):\n",
    "        prompt = f\"\"\"EXTRACT QUESTIONS\n",
    "        Context: \n",
    "        {summary}\n",
    "        Questions:\n",
    "        \"\"\"\n",
    "        try:\n",
    "            response = client.generate(prompt=prompt, \n",
    "                                   max_tokens=512, \n",
    "                                   temperature=0, \n",
    "                                   return_likelihoods='GENERATION')\n",
    "            generated_text = response.generations[0].text\n",
    "            questions = generated_text.split('\\n')\n",
    "            cleaned_questions = set()\n",
    "            for question in questions:\n",
    "                if len(question) > 5:\n",
    "                    question = re.sub(r'\\d+\\.', '', question)\n",
    "                    question = question.replace('Q:', '')\n",
    "                    question = question.strip()\n",
    "                    if is_a_question(question) is True:\n",
    "                        cleaned_questions.add(question)\n",
    "            total_questions_generated += len(cleaned_questions)\n",
    "            questions_map[summary] = cleaned_questions\n",
    "        except Exception:\n",
    "            pass"
   ]
  },
  {
   "cell_type": "code",
   "execution_count": 37,
   "id": "370ccdb9-4004-4865-b095-71840b7ce90a",
   "metadata": {
    "tags": []
   },
   "outputs": [
    {
     "name": "stderr",
     "output_type": "stream",
     "text": [
      "Total questions generated = 14\n"
     ]
    }
   ],
   "source": [
    "logger.info(f'Total questions generated = {total_questions_generated}')"
   ]
  },
  {
   "cell_type": "markdown",
   "id": "a726a133-93b9-4a77-a296-d77f3da4dea0",
   "metadata": {},
   "source": [
    "#### 4. Abstractive Question & Answering"
   ]
  },
  {
   "cell_type": "code",
   "execution_count": 38,
   "id": "40e49f01-d549-4d1c-a527-56a1ced04b96",
   "metadata": {
    "tags": []
   },
   "outputs": [
    {
     "name": "stderr",
     "output_type": "stream",
     "text": [
      "100%|██████████| 6/6 [00:48<00:00,  8.04s/it]"
     ]
    },
    {
     "name": "stdout",
     "output_type": "stream",
     "text": [
      "CPU times: user 62.2 ms, sys: 792 µs, total: 63 ms\n",
      "Wall time: 48.3 s\n"
     ]
    },
    {
     "name": "stderr",
     "output_type": "stream",
     "text": [
      "\n"
     ]
    }
   ],
   "source": [
    "%%time\n",
    "\n",
    "qa_pairs = []\n",
    "\n",
    "for context, questions in tqdm(questions_map.items()):\n",
    "    for question in questions:\n",
    "        prompt = f\"\"\"Context = {context}\n",
    "        Question = {question}\n",
    "        Answer = \n",
    "        \"\"\"\n",
    "        try:\n",
    "            response = client.generate(prompt=prompt, \n",
    "                               max_tokens=128, \n",
    "                               temperature=0, \n",
    "                               return_likelihoods='GENERATION')\n",
    "\n",
    "            generated_text = response.generations[0].text\n",
    "            answer = generated_text.strip()\n",
    "            qa_pairs.append((doc_name, context, question, answer))\n",
    "        except Exception:\n",
    "            pass"
   ]
  },
  {
   "cell_type": "markdown",
   "id": "cfb2ed3e-b255-4ff3-9141-bcae17413612",
   "metadata": {},
   "source": [
    "#### 5. Combine short summaries into a long form summary"
   ]
  },
  {
   "cell_type": "code",
   "execution_count": 39,
   "id": "951e0770-dcf6-445a-b1db-ccf6b3c16692",
   "metadata": {
    "tags": []
   },
   "outputs": [],
   "source": [
    "long_form_summary = []\n",
    "for short_summary in cleaned_summaries:\n",
    "    short_summary = short_summary.replace('\\'', '')\n",
    "    long_form_summary.append(short_summary)\n",
    "long_form_summary = '\\n\\n'.join(long_form_summary)"
   ]
  },
  {
   "cell_type": "markdown",
   "id": "e8681ce1-957b-4d06-a19e-f17655d689d5",
   "metadata": {},
   "source": [
    "#### 6. Write long form summary and QA pairs to disk"
   ]
  },
  {
   "cell_type": "code",
   "execution_count": 40,
   "id": "3175b0f3-b6c3-43a6-b918-c53052eb452e",
   "metadata": {
    "tags": []
   },
   "outputs": [],
   "source": [
    "with open(f'./summaries/summary_5.txt', 'w') as out:\n",
    "    out.write(long_form_summary)"
   ]
  },
  {
   "cell_type": "markdown",
   "id": "f3f649fe-4eff-4fc9-af77-5a144b9d2fb6",
   "metadata": {},
   "source": [
    "#### 7. Write QA pairs to disk"
   ]
  },
  {
   "cell_type": "code",
   "execution_count": 41,
   "id": "60eb9d45-9649-4c91-896c-22c416a21615",
   "metadata": {
    "tags": []
   },
   "outputs": [
    {
     "data": {
      "text/html": [
       "<div>\n",
       "<style scoped>\n",
       "    .dataframe tbody tr th:only-of-type {\n",
       "        vertical-align: middle;\n",
       "    }\n",
       "\n",
       "    .dataframe tbody tr th {\n",
       "        vertical-align: top;\n",
       "    }\n",
       "\n",
       "    .dataframe thead th {\n",
       "        text-align: right;\n",
       "    }\n",
       "</style>\n",
       "<table border=\"1\" class=\"dataframe\">\n",
       "  <thead>\n",
       "    <tr style=\"text-align: right;\">\n",
       "      <th></th>\n",
       "      <th>doc_name</th>\n",
       "      <th>short_summary</th>\n",
       "      <th>question</th>\n",
       "      <th>answer</th>\n",
       "    </tr>\n",
       "  </thead>\n",
       "  <tbody>\n",
       "    <tr>\n",
       "      <th>0</th>\n",
       "      <td>5.txt</td>\n",
       "      <td>The context is a civil appeal filed by two bra...</td>\n",
       "      <td>What is the legal status of a civil appeal fil...</td>\n",
       "      <td>A civil appeal filed by two branches of a fami...</td>\n",
       "    </tr>\n",
       "    <tr>\n",
       "      <th>1</th>\n",
       "      <td>5.txt</td>\n",
       "      <td>The context is a civil appeal filed by two bra...</td>\n",
       "      <td>What is the legal status of a civil appeal fil...</td>\n",
       "      <td>A civil appeal filed by two branches of a fami...</td>\n",
       "    </tr>\n",
       "    <tr>\n",
       "      <th>2</th>\n",
       "      <td>5.txt</td>\n",
       "      <td>The context is a civil appeal filed by two bra...</td>\n",
       "      <td>What is the legal status of a civil appeal?</td>\n",
       "      <td>A civil appeal is a type of lawsuit in which t...</td>\n",
       "    </tr>\n",
       "    <tr>\n",
       "      <th>3</th>\n",
       "      <td>5.txt</td>\n",
       "      <td>The context is a legal case where the parties ...</td>\n",
       "      <td>What was the outcome?</td>\n",
       "      <td>Shanker Lal left the property to his son, Kish...</td>\n",
       "    </tr>\n",
       "    <tr>\n",
       "      <th>4</th>\n",
       "      <td>5.txt</td>\n",
       "      <td>The context is a legal case where the parties ...</td>\n",
       "      <td>Who were the parties?</td>\n",
       "      <td>Brijlal, Shanker Lal, Kishan Lal, and Mohan De...</td>\n",
       "    </tr>\n",
       "  </tbody>\n",
       "</table>\n",
       "</div>"
      ],
      "text/plain": [
       "  doc_name                                      short_summary  \\\n",
       "0    5.txt  The context is a civil appeal filed by two bra...   \n",
       "1    5.txt  The context is a civil appeal filed by two bra...   \n",
       "2    5.txt  The context is a civil appeal filed by two bra...   \n",
       "3    5.txt  The context is a legal case where the parties ...   \n",
       "4    5.txt  The context is a legal case where the parties ...   \n",
       "\n",
       "                                            question  \\\n",
       "0  What is the legal status of a civil appeal fil...   \n",
       "1  What is the legal status of a civil appeal fil...   \n",
       "2        What is the legal status of a civil appeal?   \n",
       "3                              What was the outcome?   \n",
       "4                              Who were the parties?   \n",
       "\n",
       "                                              answer  \n",
       "0  A civil appeal filed by two branches of a fami...  \n",
       "1  A civil appeal filed by two branches of a fami...  \n",
       "2  A civil appeal is a type of lawsuit in which t...  \n",
       "3  Shanker Lal left the property to his son, Kish...  \n",
       "4  Brijlal, Shanker Lal, Kishan Lal, and Mohan De...  "
      ]
     },
     "execution_count": 41,
     "metadata": {},
     "output_type": "execute_result"
    }
   ],
   "source": [
    "df = pd.DataFrame(qa_pairs, columns=['doc_name', 'short_summary', 'question', 'answer'])\n",
    "df.head()"
   ]
  },
  {
   "cell_type": "code",
   "execution_count": 42,
   "id": "085a52a8-ef54-43aa-af1b-f0a3385c8a96",
   "metadata": {
    "tags": []
   },
   "outputs": [],
   "source": [
    "df.to_csv('./qa_pairs/qa_pairs_5.csv', index=False)"
   ]
  },
  {
   "cell_type": "code",
   "execution_count": null,
   "id": "c78f965d-7f58-45ed-80e7-cd93b82e9d29",
   "metadata": {},
   "outputs": [],
   "source": []
  }
 ],
 "metadata": {
  "availableInstances": [
   {
    "_defaultOrder": 0,
    "_isFastLaunch": true,
    "category": "General purpose",
    "gpuNum": 0,
    "hideHardwareSpecs": false,
    "memoryGiB": 4,
    "name": "ml.t3.medium",
    "vcpuNum": 2
   },
   {
    "_defaultOrder": 1,
    "_isFastLaunch": false,
    "category": "General purpose",
    "gpuNum": 0,
    "hideHardwareSpecs": false,
    "memoryGiB": 8,
    "name": "ml.t3.large",
    "vcpuNum": 2
   },
   {
    "_defaultOrder": 2,
    "_isFastLaunch": false,
    "category": "General purpose",
    "gpuNum": 0,
    "hideHardwareSpecs": false,
    "memoryGiB": 16,
    "name": "ml.t3.xlarge",
    "vcpuNum": 4
   },
   {
    "_defaultOrder": 3,
    "_isFastLaunch": false,
    "category": "General purpose",
    "gpuNum": 0,
    "hideHardwareSpecs": false,
    "memoryGiB": 32,
    "name": "ml.t3.2xlarge",
    "vcpuNum": 8
   },
   {
    "_defaultOrder": 4,
    "_isFastLaunch": true,
    "category": "General purpose",
    "gpuNum": 0,
    "hideHardwareSpecs": false,
    "memoryGiB": 8,
    "name": "ml.m5.large",
    "vcpuNum": 2
   },
   {
    "_defaultOrder": 5,
    "_isFastLaunch": false,
    "category": "General purpose",
    "gpuNum": 0,
    "hideHardwareSpecs": false,
    "memoryGiB": 16,
    "name": "ml.m5.xlarge",
    "vcpuNum": 4
   },
   {
    "_defaultOrder": 6,
    "_isFastLaunch": false,
    "category": "General purpose",
    "gpuNum": 0,
    "hideHardwareSpecs": false,
    "memoryGiB": 32,
    "name": "ml.m5.2xlarge",
    "vcpuNum": 8
   },
   {
    "_defaultOrder": 7,
    "_isFastLaunch": false,
    "category": "General purpose",
    "gpuNum": 0,
    "hideHardwareSpecs": false,
    "memoryGiB": 64,
    "name": "ml.m5.4xlarge",
    "vcpuNum": 16
   },
   {
    "_defaultOrder": 8,
    "_isFastLaunch": false,
    "category": "General purpose",
    "gpuNum": 0,
    "hideHardwareSpecs": false,
    "memoryGiB": 128,
    "name": "ml.m5.8xlarge",
    "vcpuNum": 32
   },
   {
    "_defaultOrder": 9,
    "_isFastLaunch": false,
    "category": "General purpose",
    "gpuNum": 0,
    "hideHardwareSpecs": false,
    "memoryGiB": 192,
    "name": "ml.m5.12xlarge",
    "vcpuNum": 48
   },
   {
    "_defaultOrder": 10,
    "_isFastLaunch": false,
    "category": "General purpose",
    "gpuNum": 0,
    "hideHardwareSpecs": false,
    "memoryGiB": 256,
    "name": "ml.m5.16xlarge",
    "vcpuNum": 64
   },
   {
    "_defaultOrder": 11,
    "_isFastLaunch": false,
    "category": "General purpose",
    "gpuNum": 0,
    "hideHardwareSpecs": false,
    "memoryGiB": 384,
    "name": "ml.m5.24xlarge",
    "vcpuNum": 96
   },
   {
    "_defaultOrder": 12,
    "_isFastLaunch": false,
    "category": "General purpose",
    "gpuNum": 0,
    "hideHardwareSpecs": false,
    "memoryGiB": 8,
    "name": "ml.m5d.large",
    "vcpuNum": 2
   },
   {
    "_defaultOrder": 13,
    "_isFastLaunch": false,
    "category": "General purpose",
    "gpuNum": 0,
    "hideHardwareSpecs": false,
    "memoryGiB": 16,
    "name": "ml.m5d.xlarge",
    "vcpuNum": 4
   },
   {
    "_defaultOrder": 14,
    "_isFastLaunch": false,
    "category": "General purpose",
    "gpuNum": 0,
    "hideHardwareSpecs": false,
    "memoryGiB": 32,
    "name": "ml.m5d.2xlarge",
    "vcpuNum": 8
   },
   {
    "_defaultOrder": 15,
    "_isFastLaunch": false,
    "category": "General purpose",
    "gpuNum": 0,
    "hideHardwareSpecs": false,
    "memoryGiB": 64,
    "name": "ml.m5d.4xlarge",
    "vcpuNum": 16
   },
   {
    "_defaultOrder": 16,
    "_isFastLaunch": false,
    "category": "General purpose",
    "gpuNum": 0,
    "hideHardwareSpecs": false,
    "memoryGiB": 128,
    "name": "ml.m5d.8xlarge",
    "vcpuNum": 32
   },
   {
    "_defaultOrder": 17,
    "_isFastLaunch": false,
    "category": "General purpose",
    "gpuNum": 0,
    "hideHardwareSpecs": false,
    "memoryGiB": 192,
    "name": "ml.m5d.12xlarge",
    "vcpuNum": 48
   },
   {
    "_defaultOrder": 18,
    "_isFastLaunch": false,
    "category": "General purpose",
    "gpuNum": 0,
    "hideHardwareSpecs": false,
    "memoryGiB": 256,
    "name": "ml.m5d.16xlarge",
    "vcpuNum": 64
   },
   {
    "_defaultOrder": 19,
    "_isFastLaunch": false,
    "category": "General purpose",
    "gpuNum": 0,
    "hideHardwareSpecs": false,
    "memoryGiB": 384,
    "name": "ml.m5d.24xlarge",
    "vcpuNum": 96
   },
   {
    "_defaultOrder": 20,
    "_isFastLaunch": false,
    "category": "General purpose",
    "gpuNum": 0,
    "hideHardwareSpecs": true,
    "memoryGiB": 0,
    "name": "ml.geospatial.interactive",
    "supportedImageNames": [
     "sagemaker-geospatial-v1-0"
    ],
    "vcpuNum": 0
   },
   {
    "_defaultOrder": 21,
    "_isFastLaunch": true,
    "category": "Compute optimized",
    "gpuNum": 0,
    "hideHardwareSpecs": false,
    "memoryGiB": 4,
    "name": "ml.c5.large",
    "vcpuNum": 2
   },
   {
    "_defaultOrder": 22,
    "_isFastLaunch": false,
    "category": "Compute optimized",
    "gpuNum": 0,
    "hideHardwareSpecs": false,
    "memoryGiB": 8,
    "name": "ml.c5.xlarge",
    "vcpuNum": 4
   },
   {
    "_defaultOrder": 23,
    "_isFastLaunch": false,
    "category": "Compute optimized",
    "gpuNum": 0,
    "hideHardwareSpecs": false,
    "memoryGiB": 16,
    "name": "ml.c5.2xlarge",
    "vcpuNum": 8
   },
   {
    "_defaultOrder": 24,
    "_isFastLaunch": false,
    "category": "Compute optimized",
    "gpuNum": 0,
    "hideHardwareSpecs": false,
    "memoryGiB": 32,
    "name": "ml.c5.4xlarge",
    "vcpuNum": 16
   },
   {
    "_defaultOrder": 25,
    "_isFastLaunch": false,
    "category": "Compute optimized",
    "gpuNum": 0,
    "hideHardwareSpecs": false,
    "memoryGiB": 72,
    "name": "ml.c5.9xlarge",
    "vcpuNum": 36
   },
   {
    "_defaultOrder": 26,
    "_isFastLaunch": false,
    "category": "Compute optimized",
    "gpuNum": 0,
    "hideHardwareSpecs": false,
    "memoryGiB": 96,
    "name": "ml.c5.12xlarge",
    "vcpuNum": 48
   },
   {
    "_defaultOrder": 27,
    "_isFastLaunch": false,
    "category": "Compute optimized",
    "gpuNum": 0,
    "hideHardwareSpecs": false,
    "memoryGiB": 144,
    "name": "ml.c5.18xlarge",
    "vcpuNum": 72
   },
   {
    "_defaultOrder": 28,
    "_isFastLaunch": false,
    "category": "Compute optimized",
    "gpuNum": 0,
    "hideHardwareSpecs": false,
    "memoryGiB": 192,
    "name": "ml.c5.24xlarge",
    "vcpuNum": 96
   },
   {
    "_defaultOrder": 29,
    "_isFastLaunch": true,
    "category": "Accelerated computing",
    "gpuNum": 1,
    "hideHardwareSpecs": false,
    "memoryGiB": 16,
    "name": "ml.g4dn.xlarge",
    "vcpuNum": 4
   },
   {
    "_defaultOrder": 30,
    "_isFastLaunch": false,
    "category": "Accelerated computing",
    "gpuNum": 1,
    "hideHardwareSpecs": false,
    "memoryGiB": 32,
    "name": "ml.g4dn.2xlarge",
    "vcpuNum": 8
   },
   {
    "_defaultOrder": 31,
    "_isFastLaunch": false,
    "category": "Accelerated computing",
    "gpuNum": 1,
    "hideHardwareSpecs": false,
    "memoryGiB": 64,
    "name": "ml.g4dn.4xlarge",
    "vcpuNum": 16
   },
   {
    "_defaultOrder": 32,
    "_isFastLaunch": false,
    "category": "Accelerated computing",
    "gpuNum": 1,
    "hideHardwareSpecs": false,
    "memoryGiB": 128,
    "name": "ml.g4dn.8xlarge",
    "vcpuNum": 32
   },
   {
    "_defaultOrder": 33,
    "_isFastLaunch": false,
    "category": "Accelerated computing",
    "gpuNum": 4,
    "hideHardwareSpecs": false,
    "memoryGiB": 192,
    "name": "ml.g4dn.12xlarge",
    "vcpuNum": 48
   },
   {
    "_defaultOrder": 34,
    "_isFastLaunch": false,
    "category": "Accelerated computing",
    "gpuNum": 1,
    "hideHardwareSpecs": false,
    "memoryGiB": 256,
    "name": "ml.g4dn.16xlarge",
    "vcpuNum": 64
   },
   {
    "_defaultOrder": 35,
    "_isFastLaunch": false,
    "category": "Accelerated computing",
    "gpuNum": 1,
    "hideHardwareSpecs": false,
    "memoryGiB": 61,
    "name": "ml.p3.2xlarge",
    "vcpuNum": 8
   },
   {
    "_defaultOrder": 36,
    "_isFastLaunch": false,
    "category": "Accelerated computing",
    "gpuNum": 4,
    "hideHardwareSpecs": false,
    "memoryGiB": 244,
    "name": "ml.p3.8xlarge",
    "vcpuNum": 32
   },
   {
    "_defaultOrder": 37,
    "_isFastLaunch": false,
    "category": "Accelerated computing",
    "gpuNum": 8,
    "hideHardwareSpecs": false,
    "memoryGiB": 488,
    "name": "ml.p3.16xlarge",
    "vcpuNum": 64
   },
   {
    "_defaultOrder": 38,
    "_isFastLaunch": false,
    "category": "Accelerated computing",
    "gpuNum": 8,
    "hideHardwareSpecs": false,
    "memoryGiB": 768,
    "name": "ml.p3dn.24xlarge",
    "vcpuNum": 96
   },
   {
    "_defaultOrder": 39,
    "_isFastLaunch": false,
    "category": "Memory Optimized",
    "gpuNum": 0,
    "hideHardwareSpecs": false,
    "memoryGiB": 16,
    "name": "ml.r5.large",
    "vcpuNum": 2
   },
   {
    "_defaultOrder": 40,
    "_isFastLaunch": false,
    "category": "Memory Optimized",
    "gpuNum": 0,
    "hideHardwareSpecs": false,
    "memoryGiB": 32,
    "name": "ml.r5.xlarge",
    "vcpuNum": 4
   },
   {
    "_defaultOrder": 41,
    "_isFastLaunch": false,
    "category": "Memory Optimized",
    "gpuNum": 0,
    "hideHardwareSpecs": false,
    "memoryGiB": 64,
    "name": "ml.r5.2xlarge",
    "vcpuNum": 8
   },
   {
    "_defaultOrder": 42,
    "_isFastLaunch": false,
    "category": "Memory Optimized",
    "gpuNum": 0,
    "hideHardwareSpecs": false,
    "memoryGiB": 128,
    "name": "ml.r5.4xlarge",
    "vcpuNum": 16
   },
   {
    "_defaultOrder": 43,
    "_isFastLaunch": false,
    "category": "Memory Optimized",
    "gpuNum": 0,
    "hideHardwareSpecs": false,
    "memoryGiB": 256,
    "name": "ml.r5.8xlarge",
    "vcpuNum": 32
   },
   {
    "_defaultOrder": 44,
    "_isFastLaunch": false,
    "category": "Memory Optimized",
    "gpuNum": 0,
    "hideHardwareSpecs": false,
    "memoryGiB": 384,
    "name": "ml.r5.12xlarge",
    "vcpuNum": 48
   },
   {
    "_defaultOrder": 45,
    "_isFastLaunch": false,
    "category": "Memory Optimized",
    "gpuNum": 0,
    "hideHardwareSpecs": false,
    "memoryGiB": 512,
    "name": "ml.r5.16xlarge",
    "vcpuNum": 64
   },
   {
    "_defaultOrder": 46,
    "_isFastLaunch": false,
    "category": "Memory Optimized",
    "gpuNum": 0,
    "hideHardwareSpecs": false,
    "memoryGiB": 768,
    "name": "ml.r5.24xlarge",
    "vcpuNum": 96
   },
   {
    "_defaultOrder": 47,
    "_isFastLaunch": false,
    "category": "Accelerated computing",
    "gpuNum": 1,
    "hideHardwareSpecs": false,
    "memoryGiB": 16,
    "name": "ml.g5.xlarge",
    "vcpuNum": 4
   },
   {
    "_defaultOrder": 48,
    "_isFastLaunch": false,
    "category": "Accelerated computing",
    "gpuNum": 1,
    "hideHardwareSpecs": false,
    "memoryGiB": 32,
    "name": "ml.g5.2xlarge",
    "vcpuNum": 8
   },
   {
    "_defaultOrder": 49,
    "_isFastLaunch": false,
    "category": "Accelerated computing",
    "gpuNum": 1,
    "hideHardwareSpecs": false,
    "memoryGiB": 64,
    "name": "ml.g5.4xlarge",
    "vcpuNum": 16
   },
   {
    "_defaultOrder": 50,
    "_isFastLaunch": false,
    "category": "Accelerated computing",
    "gpuNum": 1,
    "hideHardwareSpecs": false,
    "memoryGiB": 128,
    "name": "ml.g5.8xlarge",
    "vcpuNum": 32
   },
   {
    "_defaultOrder": 51,
    "_isFastLaunch": false,
    "category": "Accelerated computing",
    "gpuNum": 1,
    "hideHardwareSpecs": false,
    "memoryGiB": 256,
    "name": "ml.g5.16xlarge",
    "vcpuNum": 64
   },
   {
    "_defaultOrder": 52,
    "_isFastLaunch": false,
    "category": "Accelerated computing",
    "gpuNum": 4,
    "hideHardwareSpecs": false,
    "memoryGiB": 192,
    "name": "ml.g5.12xlarge",
    "vcpuNum": 48
   },
   {
    "_defaultOrder": 53,
    "_isFastLaunch": false,
    "category": "Accelerated computing",
    "gpuNum": 4,
    "hideHardwareSpecs": false,
    "memoryGiB": 384,
    "name": "ml.g5.24xlarge",
    "vcpuNum": 96
   },
   {
    "_defaultOrder": 54,
    "_isFastLaunch": false,
    "category": "Accelerated computing",
    "gpuNum": 8,
    "hideHardwareSpecs": false,
    "memoryGiB": 768,
    "name": "ml.g5.48xlarge",
    "vcpuNum": 192
   }
  ],
  "instance_type": "ml.t3.medium",
  "kernelspec": {
   "display_name": "Python 3 (Data Science)",
   "language": "python",
   "name": "python3__SAGEMAKER_INTERNAL__arn:aws:sagemaker:us-east-1:081325390199:image/datascience-1.0"
  },
  "language_info": {
   "codemirror_mode": {
    "name": "ipython",
    "version": 3
   },
   "file_extension": ".py",
   "mimetype": "text/x-python",
   "name": "python",
   "nbconvert_exporter": "python",
   "pygments_lexer": "ipython3",
   "version": "3.7.10"
  }
 },
 "nbformat": 4,
 "nbformat_minor": 5
}
