{
 "cells": [
  {
   "cell_type": "markdown",
   "id": "265a4f08-ec98-4ad8-b4ec-5d9d47808bf6",
   "metadata": {},
   "source": [
    "## Stable Diffusion (Text to Image) - Finetune with cat images (limited data)"
   ]
  },
  {
   "cell_type": "markdown",
   "id": "4a2fbec7-5272-420d-8e33-01b025886200",
   "metadata": {},
   "source": [
    "#### Imports "
   ]
  },
  {
   "cell_type": "code",
   "execution_count": null,
   "id": "66fbd7a7-61ee-436e-9823-f3511477c0e7",
   "metadata": {
    "tags": []
   },
   "outputs": [],
   "source": [
    "from sagemaker.jumpstart.notebook_utils import list_jumpstart_models\n",
    "from sagemaker.utils import name_from_base\n",
    "from sagemaker.estimator import Estimator\n",
    "from sagemaker import get_execution_role\n",
    "from sagemaker import hyperparameters\n",
    "from sagemaker import script_uris\n",
    "from sagemaker import image_uris\n",
    "from sagemaker import model_uris\n",
    "import matplotlib.pyplot as plt\n",
    "import numpy as np\n",
    "import sagemaker\n",
    "import datetime\n",
    "import logging\n",
    "import boto3\n",
    "import json"
   ]
  },
  {
   "cell_type": "markdown",
   "id": "8361c70a-63f0-4659-a15d-797d9956b548",
   "metadata": {},
   "source": [
    "##### Setup logging "
   ]
  },
  {
   "cell_type": "code",
   "execution_count": null,
   "id": "3ef71c15-85a2-4fcb-9fd9-68622996c6c8",
   "metadata": {
    "tags": []
   },
   "outputs": [],
   "source": [
    "logger = logging.getLogger('sagemaker')\n",
    "logger.setLevel(logging.DEBUG)\n",
    "logger.addHandler(logging.StreamHandler())"
   ]
  },
  {
   "cell_type": "markdown",
   "id": "4a7a1821-ad53-4795-8180-cb12fd60ec94",
   "metadata": {},
   "source": [
    "##### Log versions of dependencies "
   ]
  },
  {
   "cell_type": "code",
   "execution_count": null,
   "id": "90d63c5d-c30b-44df-ad7e-a133add301d6",
   "metadata": {
    "tags": []
   },
   "outputs": [],
   "source": [
    "logger.info(f'[Using SageMaker version: {sagemaker.__version__}]')"
   ]
  },
  {
   "cell_type": "markdown",
   "id": "b97c4890-979f-4646-b45e-44c8271cde52",
   "metadata": {
    "tags": []
   },
   "source": [
    "#### I. Setup essentials "
   ]
  },
  {
   "cell_type": "code",
   "execution_count": null,
   "id": "9f21bbf9-d32e-42ff-ab42-bdb1cdea98d1",
   "metadata": {
    "tags": []
   },
   "outputs": [],
   "source": [
    "ROLE = get_execution_role()\n",
    "REGION = boto3.Session().region_name\n",
    "session = sagemaker.Session()\n",
    "logger.info(f'Region: {REGION}')"
   ]
  },
  {
   "cell_type": "markdown",
   "id": "05fd2598-9c1d-4f8f-ba57-fc6035e8f36c",
   "metadata": {},
   "source": [
    "##### List all models from SageMaker JumpStart hub"
   ]
  },
  {
   "cell_type": "code",
   "execution_count": null,
   "id": "8009c4f1-7bf7-49f8-9758-bee5232b2592",
   "metadata": {
    "tags": []
   },
   "outputs": [],
   "source": [
    "models = list_jumpstart_models()\n",
    "len(models)"
   ]
  },
  {
   "cell_type": "code",
   "execution_count": null,
   "id": "3fb5504f-23a8-425b-ac11-ff0185292566",
   "metadata": {
    "tags": []
   },
   "outputs": [],
   "source": [
    "FILTER = 'task == txt2img'\n",
    "txt2img_models = list_jumpstart_models(filter=FILTER)\n",
    "txt2img_models"
   ]
  },
  {
   "cell_type": "code",
   "execution_count": null,
   "id": "eda22cde-eba1-4ac3-8bf7-101a9164dcaa",
   "metadata": {
    "tags": []
   },
   "outputs": [],
   "source": [
    "MODEL_ID = 'model-txt2img-stabilityai-stable-diffusion-v2-1-base'\n",
    "MODEL_VERSION = '*'  # latest\n",
    "SCOPE = 'training'\n",
    "TRAIN_INSTANCE_TYPE = 'ml.g4dn.2xlarge'"
   ]
  },
  {
   "cell_type": "markdown",
   "id": "9e392753-cfba-48ac-ae09-29dc83579206",
   "metadata": {
    "tags": []
   },
   "source": [
    "#### II. Retrieve training artifacts "
   ]
  },
  {
   "cell_type": "code",
   "execution_count": null,
   "id": "ede6c29e-457d-4ac5-9346-db467e147c76",
   "metadata": {
    "tags": []
   },
   "outputs": [],
   "source": [
    "train_image_uri = image_uris.retrieve(region=REGION, \n",
    "                                      framework=None,\n",
    "                                      model_id=MODEL_ID, \n",
    "                                      model_version=MODEL_VERSION, \n",
    "                                      image_scope=SCOPE, \n",
    "                                      instance_type=TRAIN_INSTANCE_TYPE)\n",
    "logger.info(f'Training image URI: {train_image_uri}')"
   ]
  },
  {
   "cell_type": "code",
   "execution_count": null,
   "id": "0c76f5a9-e415-45cd-82ec-8d21eede52b2",
   "metadata": {
    "tags": []
   },
   "outputs": [],
   "source": [
    "train_source_uri = script_uris.retrieve(model_id=MODEL_ID, \n",
    "                                        model_version=MODEL_VERSION, \n",
    "                                        script_scope=SCOPE)\n",
    "logger.info(f'Training source URI: {train_source_uri}')"
   ]
  },
  {
   "cell_type": "code",
   "execution_count": null,
   "id": "7e2ec79a-5c05-4e13-83aa-8c88853e2a34",
   "metadata": {
    "tags": []
   },
   "outputs": [],
   "source": [
    "train_model_uri = model_uris.retrieve(model_id=MODEL_ID, \n",
    "                                      model_version=MODEL_VERSION, \n",
    "                                      model_scope=SCOPE)\n",
    "logger.info(f'Training model URI: {train_model_uri}')"
   ]
  },
  {
   "cell_type": "markdown",
   "id": "7a77b0ec-a0f4-43dd-ae30-e92e92208cf7",
   "metadata": {},
   "source": [
    "##### Setup data locations "
   ]
  },
  {
   "cell_type": "code",
   "execution_count": null,
   "id": "9c1efade-f27d-46b1-aaa3-fcafd8f98f04",
   "metadata": {
    "tags": []
   },
   "outputs": [],
   "source": [
    "DEFAULT_BUCKET = session.default_bucket()\n",
    "logger.info(f'Default bucket = {DEFAULT_BUCKET}')"
   ]
  },
  {
   "cell_type": "code",
   "execution_count": null,
   "id": "421d5743-e2a7-4c92-857c-518483659fd5",
   "metadata": {
    "tags": []
   },
   "outputs": [],
   "source": [
    "TRAIN_DATA_INPUT_PREFIX = 'js-input/cats/'"
   ]
  },
  {
   "cell_type": "code",
   "execution_count": null,
   "id": "ec9f4017-410f-42b5-8f19-3d6434328bb7",
   "metadata": {
    "tags": []
   },
   "outputs": [],
   "source": [
    "TRAIN_DATA_INPUT_S3_PATH = f's3://{DEFAULT_BUCKET}/{TRAIN_DATA_INPUT_PREFIX}'\n",
    "logger.info(f'Training data input S3 location => {TRAIN_DATA_INPUT_S3_PATH}')"
   ]
  },
  {
   "cell_type": "markdown",
   "id": "db23f773-1bb3-414b-b4b6-77351e3e575f",
   "metadata": {
    "tags": []
   },
   "source": [
    "#### III. Copy dataset for fine-tuning from local to S3"
   ]
  },
  {
   "cell_type": "code",
   "execution_count": null,
   "id": "b88838bc-58a0-43b3-a20e-5dd6d22ab9b0",
   "metadata": {
    "tags": []
   },
   "outputs": [],
   "source": [
    "!rm -rf ./data/.ipynb_checkpoints/ "
   ]
  },
  {
   "cell_type": "code",
   "execution_count": null,
   "id": "b4184f22-1c0b-4164-890b-6a39824cd2b1",
   "metadata": {
    "tags": []
   },
   "outputs": [],
   "source": [
    "!aws s3 cp ./data {TRAIN_DATA_INPUT_S3_PATH} --recursive"
   ]
  },
  {
   "cell_type": "code",
   "execution_count": null,
   "id": "0cdd2c11-0c23-45ae-84a6-98f27dcfcced",
   "metadata": {
    "tags": []
   },
   "outputs": [],
   "source": [
    "TRAIN_DATA_OUTPUT_PREFIX = 'js-output'\n",
    "TRAIN_DATA_OUTPUT_S3_PATH = f's3://{DEFAULT_BUCKET}/{TRAIN_DATA_OUTPUT_PREFIX}'\n",
    "logger.info(f'Training output S3 location => {TRAIN_DATA_OUTPUT_S3_PATH}')"
   ]
  },
  {
   "cell_type": "markdown",
   "id": "7a155042-4c05-405b-8790-a2caf32bb8d7",
   "metadata": {
    "tags": []
   },
   "source": [
    "#### IV. Access and update default hyperparams"
   ]
  },
  {
   "cell_type": "code",
   "execution_count": null,
   "id": "848f5706-8ddc-488c-ad73-d17b219a5a5e",
   "metadata": {
    "tags": []
   },
   "outputs": [],
   "source": [
    "hyperparams = hyperparameters.retrieve_default(model_id=MODEL_ID, \n",
    "                                                   model_version=MODEL_VERSION)\n",
    "hyperparams "
   ]
  },
  {
   "cell_type": "markdown",
   "id": "57b69c71-8cb5-4075-802d-9dd5cf9fdeec",
   "metadata": {},
   "source": [
    "You can also override these hyperparams "
   ]
  },
  {
   "cell_type": "code",
   "execution_count": null,
   "id": "6fc2fb9f-c9d6-4e9c-865a-7cf298ab5b89",
   "metadata": {
    "tags": []
   },
   "outputs": [],
   "source": [
    "hyperparams['max_steps'] = '400'\n",
    "hyperparams['seed'] = '123'\n",
    "hyperparams"
   ]
  },
  {
   "cell_type": "markdown",
   "id": "8e2401c6-07a1-476c-9f2c-b90bbb0c1f43",
   "metadata": {},
   "source": [
    "#### V. Finetune Stable Diffusion model"
   ]
  },
  {
   "cell_type": "code",
   "execution_count": null,
   "id": "66a8d25e-81f1-4597-8dc6-90d8db0f86e8",
   "metadata": {
    "tags": []
   },
   "outputs": [],
   "source": [
    "model_prefix = name_from_base(f'js-{MODEL_ID}-')\n",
    "training_job_name = f'{model_prefix}-finetuning'\n",
    "logger.info(f'Train job name => {training_job_name}')"
   ]
  },
  {
   "cell_type": "code",
   "execution_count": null,
   "id": "2a545de2-f996-4128-837f-da5c778e875b",
   "metadata": {
    "tags": []
   },
   "outputs": [],
   "source": [
    "MAX_RUN = 360000"
   ]
  },
  {
   "cell_type": "code",
   "execution_count": null,
   "id": "82732bf1-8455-4245-b187-4bd0ffd7249e",
   "metadata": {
    "tags": []
   },
   "outputs": [],
   "source": [
    "estimator = Estimator(role=ROLE, \n",
    "                      image_uri=train_image_uri, \n",
    "                      source_dir=train_source_uri, \n",
    "                      model_uri=train_model_uri, \n",
    "                      entry_point='transfer_learning.py', \n",
    "                      instance_count=1, \n",
    "                      instance_type=TRAIN_INSTANCE_TYPE, \n",
    "                      max_run=MAX_RUN, \n",
    "                      hyperparameters=hyperparams, \n",
    "                      output_path=TRAIN_DATA_OUTPUT_S3_PATH, \n",
    "                      base_job_name=training_job_name)"
   ]
  },
  {
   "cell_type": "code",
   "execution_count": null,
   "id": "93bb8140-47f2-45d7-8fcc-8d7ddbd42a76",
   "metadata": {
    "tags": []
   },
   "outputs": [],
   "source": [
    "%%time\n",
    "\n",
    "estimator.fit({'training': TRAIN_DATA_INPUT_S3_PATH}, logs=False)"
   ]
  },
  {
   "cell_type": "markdown",
   "id": "e8fadbd2-398f-49f3-a53a-65207785a227",
   "metadata": {
    "tags": []
   },
   "source": [
    "## Download to g4dn.2xlarge Studio Application"
   ]
  },
  {
   "cell_type": "code",
   "execution_count": null,
   "id": "b00cfec9-044b-41aa-bb5f-5bedade84df8",
   "metadata": {
    "tags": []
   },
   "outputs": [],
   "source": [
    "!aws s3 cp {TRAIN_DATA_OUTPUT_S3_PATH}/{estimator.hyperparameters()[\"sagemaker_job_name\"]}/output/model.tar.gz .\n",
    "!mkdir model\n",
    "!tar -zxvf model.tar.gz -C model\n",
    "!rm model.tar.gz"
   ]
  },
  {
   "cell_type": "code",
   "execution_count": null,
   "id": "f534bd8a-65dd-48d1-995f-ae277288052e",
   "metadata": {
    "tags": []
   },
   "outputs": [],
   "source": [
    "!pip install ipywidgets==7.0.0 diffusers transformers --quiet"
   ]
  },
  {
   "cell_type": "code",
   "execution_count": null,
   "id": "481d527d-8ae3-4d4d-860e-654871fd6b8e",
   "metadata": {},
   "outputs": [],
   "source": [
    "text = \"riobugger cat in superman suit\"\n",
    "text = \"riobugger cat portrait, a renaissance painting\"\n",
    "text = \"pencil sketch of riobugger cat\"\n",
    "text = \"riobugger cat in cartoon animation\"\n",
    "text = \"riobugger cat on the beach\"\n",
    "text = \"a photo of a riobugger cat\""
   ]
  },
  {
   "cell_type": "code",
   "execution_count": null,
   "id": "0c94d61f-925d-40d3-8352-54d31feec2fb",
   "metadata": {
    "tags": []
   },
   "outputs": [],
   "source": [
    "from diffusers import StableDiffusionPipeline\n",
    "import torch\n",
    "\n",
    "text = \"pencil sketch of riobugger cat\"\n",
    "\n",
    "pipe = StableDiffusionPipeline.from_pretrained(\n",
    "    \"./model/\", \n",
    "    revision=\"fp16\", \n",
    "    torch_dtype=torch.float16, \n",
    "    use_auth_token=True).to(\"cuda\")\n",
    "image = pipe(text).images[0]\n",
    "\n",
    "image"
   ]
  },
  {
   "cell_type": "code",
   "execution_count": null,
   "id": "d1babe53-55e2-49ca-a406-89e7f9f7bdc6",
   "metadata": {},
   "outputs": [],
   "source": []
  },
  {
   "cell_type": "markdown",
   "id": "dcb9c694-2776-4616-9d9a-07b60b467868",
   "metadata": {
    "jp-MarkdownHeadingCollapsed": true,
    "tags": []
   },
   "source": [
    "#### VI. Deploy fine-tuned model as a SageMaker endpoint"
   ]
  },
  {
   "cell_type": "markdown",
   "id": "5660d1b3-5ef9-46c9-b54b-ae0f79da6cb2",
   "metadata": {},
   "source": [
    "##### Retrieve artifacts for inference "
   ]
  },
  {
   "cell_type": "code",
   "execution_count": null,
   "id": "a60a007b-ce8f-4a8b-881d-0215ab06446b",
   "metadata": {
    "tags": []
   },
   "outputs": [],
   "source": [
    "SCOPE = 'inference'\n",
    "INFERENCE_INSTANCE_TYPE = 'ml.g4dn.2xlarge'  # prefered"
   ]
  },
  {
   "cell_type": "code",
   "execution_count": null,
   "id": "fa94d855-088a-46d5-8d0c-cd962845bc23",
   "metadata": {
    "tags": []
   },
   "outputs": [],
   "source": [
    "deploy_image_uri = image_uris.retrieve(region=REGION, \n",
    "                                       framework=None,  \n",
    "                                       image_scope=SCOPE, \n",
    "                                       model_id=MODEL_ID, \n",
    "                                       model_version=MODEL_VERSION, \n",
    "                                       instance_type=INFERENCE_INSTANCE_TYPE)\n",
    "logger.info(f'Deploy image URI => {deploy_image_uri}')"
   ]
  },
  {
   "cell_type": "code",
   "execution_count": null,
   "id": "ad544bc6-3172-48ab-8ff3-e2998a344775",
   "metadata": {
    "tags": []
   },
   "outputs": [],
   "source": [
    "deploy_source_uri = script_uris.retrieve(model_id=MODEL_ID, \n",
    "                                         model_version=MODEL_VERSION, \n",
    "                                         script_scope=SCOPE)\n",
    "logger.info(f'Deploy source URI => {deploy_source_uri}')"
   ]
  },
  {
   "cell_type": "code",
   "execution_count": null,
   "id": "9805808a-af94-43e8-9faf-1a4115055146",
   "metadata": {
    "tags": []
   },
   "outputs": [],
   "source": [
    "current_time = datetime.datetime.now().strftime('%Y%m%d%H%M%S')\n",
    "endpoint_name = f'js-ep-{current_time}'\n",
    "endpoint_name"
   ]
  },
  {
   "cell_type": "code",
   "execution_count": null,
   "id": "880524a3-5717-4978-961a-af43214f12ff",
   "metadata": {
    "tags": []
   },
   "outputs": [],
   "source": [
    "%%time\n",
    "\n",
    "predictor = estimator.deploy(initial_instance_count=1, \n",
    "                             instance_type=INFERENCE_INSTANCE_TYPE, \n",
    "                             entry_point='inference.py', \n",
    "                             image_uri=deploy_image_uri, \n",
    "                             source_dir=deploy_source_uri, \n",
    "                             endpoint_name=endpoint_name)"
   ]
  },
  {
   "cell_type": "markdown",
   "id": "91d084cd-5196-4018-a707-4f77d3a0be02",
   "metadata": {
    "jp-MarkdownHeadingCollapsed": true,
    "tags": []
   },
   "source": [
    "#### VII. Invoke the endpoint for inference using Predictor "
   ]
  },
  {
   "cell_type": "code",
   "execution_count": null,
   "id": "4dc771be-1922-4e71-9ebc-31d5c82b503c",
   "metadata": {
    "tags": []
   },
   "outputs": [],
   "source": [
    "prompt = 'riobugger cat in a space suit'"
   ]
  },
  {
   "cell_type": "code",
   "execution_count": null,
   "id": "b88f2710-2030-4b60-b15e-3fdf486583d9",
   "metadata": {
    "tags": []
   },
   "outputs": [],
   "source": [
    "prompt = json.dumps(prompt).encode('utf-8')"
   ]
  },
  {
   "cell_type": "code",
   "execution_count": null,
   "id": "33c8fa3a-73a2-4a51-9798-4a54ee68f3c6",
   "metadata": {
    "tags": []
   },
   "outputs": [],
   "source": [
    "MIME_INFO = {'ContentType': 'application/x-text', \n",
    "             'Accept': 'application/json'}"
   ]
  },
  {
   "cell_type": "code",
   "execution_count": null,
   "id": "0a203d09-6de8-46f2-a48c-7830ae4c3572",
   "metadata": {
    "tags": []
   },
   "outputs": [],
   "source": [
    "%%time\n",
    "\n",
    "response = predictor.predict(prompt, MIME_INFO)"
   ]
  },
  {
   "cell_type": "code",
   "execution_count": null,
   "id": "3946d66c-a145-460b-8e09-791c852552ba",
   "metadata": {
    "tags": []
   },
   "outputs": [],
   "source": [
    "response = json.loads(response)\n",
    "img = response['generated_image']\n",
    "prompt = response['prompt']"
   ]
  },
  {
   "cell_type": "code",
   "execution_count": null,
   "id": "5a8eaf06-be34-4b72-b7fe-a8df0eb82610",
   "metadata": {
    "tags": []
   },
   "outputs": [],
   "source": [
    "plt.figure(figsize=(12, 12))\n",
    "plt.imshow(np.array(img))\n",
    "plt.axis('off')\n",
    "plt.title(prompt)\n",
    "plt.show()"
   ]
  },
  {
   "cell_type": "markdown",
   "id": "e8299971-ec75-4d20-a63a-d1a2d4d4c853",
   "metadata": {
    "jp-MarkdownHeadingCollapsed": true,
    "tags": []
   },
   "source": [
    "#### VIII. Invoke the endpoint for inference using SageMaker run-time client (Alternative)"
   ]
  },
  {
   "cell_type": "code",
   "execution_count": null,
   "id": "e4fcef86-6f16-46c2-a93b-480f9ea781f7",
   "metadata": {
    "tags": []
   },
   "outputs": [],
   "source": [
    "prompt = 'riobugger cat animated and dressed as a police officer'"
   ]
  },
  {
   "cell_type": "code",
   "execution_count": null,
   "id": "1f024076-89ac-4b34-9275-b48a82636265",
   "metadata": {
    "tags": []
   },
   "outputs": [],
   "source": [
    "client = boto3.client('sagemaker-runtime')"
   ]
  },
  {
   "cell_type": "code",
   "execution_count": null,
   "id": "0a214283-e30b-4c4b-9030-7b928da3912c",
   "metadata": {
    "tags": []
   },
   "outputs": [],
   "source": [
    "%%time\n",
    "\n",
    "response = client.invoke_endpoint(EndpointName=endpoint_name, \n",
    "                                  Body=prompt, \n",
    "                                  ContentType='application/x-text')"
   ]
  },
  {
   "cell_type": "code",
   "execution_count": null,
   "id": "4bb81cc0-8345-4edc-86c2-7379d6627fa0",
   "metadata": {
    "tags": []
   },
   "outputs": [],
   "source": [
    "response_body = json.loads(response['Body'].read().decode())\n",
    "generated_image = response_body['generated_image']"
   ]
  },
  {
   "cell_type": "code",
   "execution_count": null,
   "id": "ae2a8cd2-4861-482d-9f67-c814cf8e2109",
   "metadata": {},
   "outputs": [],
   "source": [
    "plt.figure(figsize=(12, 12))\n",
    "plt.imshow(np.array(generated_image))\n",
    "plt.axis('off')\n",
    "plt.title(prompt)\n",
    "plt.show()"
   ]
  },
  {
   "cell_type": "code",
   "execution_count": null,
   "id": "ef34cb19-93fe-476b-926c-8b1cbd1d44d9",
   "metadata": {
    "tags": []
   },
   "outputs": [],
   "source": [
    "# Delete endpoint to save costs\n",
    "predictor.delete_endpoint()"
   ]
  }
 ],
 "metadata": {
  "availableInstances": [
   {
    "_defaultOrder": 0,
    "_isFastLaunch": true,
    "category": "General purpose",
    "gpuNum": 0,
    "hideHardwareSpecs": false,
    "memoryGiB": 4,
    "name": "ml.t3.medium",
    "vcpuNum": 2
   },
   {
    "_defaultOrder": 1,
    "_isFastLaunch": false,
    "category": "General purpose",
    "gpuNum": 0,
    "hideHardwareSpecs": false,
    "memoryGiB": 8,
    "name": "ml.t3.large",
    "vcpuNum": 2
   },
   {
    "_defaultOrder": 2,
    "_isFastLaunch": false,
    "category": "General purpose",
    "gpuNum": 0,
    "hideHardwareSpecs": false,
    "memoryGiB": 16,
    "name": "ml.t3.xlarge",
    "vcpuNum": 4
   },
   {
    "_defaultOrder": 3,
    "_isFastLaunch": false,
    "category": "General purpose",
    "gpuNum": 0,
    "hideHardwareSpecs": false,
    "memoryGiB": 32,
    "name": "ml.t3.2xlarge",
    "vcpuNum": 8
   },
   {
    "_defaultOrder": 4,
    "_isFastLaunch": true,
    "category": "General purpose",
    "gpuNum": 0,
    "hideHardwareSpecs": false,
    "memoryGiB": 8,
    "name": "ml.m5.large",
    "vcpuNum": 2
   },
   {
    "_defaultOrder": 5,
    "_isFastLaunch": false,
    "category": "General purpose",
    "gpuNum": 0,
    "hideHardwareSpecs": false,
    "memoryGiB": 16,
    "name": "ml.m5.xlarge",
    "vcpuNum": 4
   },
   {
    "_defaultOrder": 6,
    "_isFastLaunch": false,
    "category": "General purpose",
    "gpuNum": 0,
    "hideHardwareSpecs": false,
    "memoryGiB": 32,
    "name": "ml.m5.2xlarge",
    "vcpuNum": 8
   },
   {
    "_defaultOrder": 7,
    "_isFastLaunch": false,
    "category": "General purpose",
    "gpuNum": 0,
    "hideHardwareSpecs": false,
    "memoryGiB": 64,
    "name": "ml.m5.4xlarge",
    "vcpuNum": 16
   },
   {
    "_defaultOrder": 8,
    "_isFastLaunch": false,
    "category": "General purpose",
    "gpuNum": 0,
    "hideHardwareSpecs": false,
    "memoryGiB": 128,
    "name": "ml.m5.8xlarge",
    "vcpuNum": 32
   },
   {
    "_defaultOrder": 9,
    "_isFastLaunch": false,
    "category": "General purpose",
    "gpuNum": 0,
    "hideHardwareSpecs": false,
    "memoryGiB": 192,
    "name": "ml.m5.12xlarge",
    "vcpuNum": 48
   },
   {
    "_defaultOrder": 10,
    "_isFastLaunch": false,
    "category": "General purpose",
    "gpuNum": 0,
    "hideHardwareSpecs": false,
    "memoryGiB": 256,
    "name": "ml.m5.16xlarge",
    "vcpuNum": 64
   },
   {
    "_defaultOrder": 11,
    "_isFastLaunch": false,
    "category": "General purpose",
    "gpuNum": 0,
    "hideHardwareSpecs": false,
    "memoryGiB": 384,
    "name": "ml.m5.24xlarge",
    "vcpuNum": 96
   },
   {
    "_defaultOrder": 12,
    "_isFastLaunch": false,
    "category": "General purpose",
    "gpuNum": 0,
    "hideHardwareSpecs": false,
    "memoryGiB": 8,
    "name": "ml.m5d.large",
    "vcpuNum": 2
   },
   {
    "_defaultOrder": 13,
    "_isFastLaunch": false,
    "category": "General purpose",
    "gpuNum": 0,
    "hideHardwareSpecs": false,
    "memoryGiB": 16,
    "name": "ml.m5d.xlarge",
    "vcpuNum": 4
   },
   {
    "_defaultOrder": 14,
    "_isFastLaunch": false,
    "category": "General purpose",
    "gpuNum": 0,
    "hideHardwareSpecs": false,
    "memoryGiB": 32,
    "name": "ml.m5d.2xlarge",
    "vcpuNum": 8
   },
   {
    "_defaultOrder": 15,
    "_isFastLaunch": false,
    "category": "General purpose",
    "gpuNum": 0,
    "hideHardwareSpecs": false,
    "memoryGiB": 64,
    "name": "ml.m5d.4xlarge",
    "vcpuNum": 16
   },
   {
    "_defaultOrder": 16,
    "_isFastLaunch": false,
    "category": "General purpose",
    "gpuNum": 0,
    "hideHardwareSpecs": false,
    "memoryGiB": 128,
    "name": "ml.m5d.8xlarge",
    "vcpuNum": 32
   },
   {
    "_defaultOrder": 17,
    "_isFastLaunch": false,
    "category": "General purpose",
    "gpuNum": 0,
    "hideHardwareSpecs": false,
    "memoryGiB": 192,
    "name": "ml.m5d.12xlarge",
    "vcpuNum": 48
   },
   {
    "_defaultOrder": 18,
    "_isFastLaunch": false,
    "category": "General purpose",
    "gpuNum": 0,
    "hideHardwareSpecs": false,
    "memoryGiB": 256,
    "name": "ml.m5d.16xlarge",
    "vcpuNum": 64
   },
   {
    "_defaultOrder": 19,
    "_isFastLaunch": false,
    "category": "General purpose",
    "gpuNum": 0,
    "hideHardwareSpecs": false,
    "memoryGiB": 384,
    "name": "ml.m5d.24xlarge",
    "vcpuNum": 96
   },
   {
    "_defaultOrder": 20,
    "_isFastLaunch": false,
    "category": "General purpose",
    "gpuNum": 0,
    "hideHardwareSpecs": true,
    "memoryGiB": 0,
    "name": "ml.geospatial.interactive",
    "supportedImageNames": [
     "sagemaker-geospatial-v1-0"
    ],
    "vcpuNum": 0
   },
   {
    "_defaultOrder": 21,
    "_isFastLaunch": true,
    "category": "Compute optimized",
    "gpuNum": 0,
    "hideHardwareSpecs": false,
    "memoryGiB": 4,
    "name": "ml.c5.large",
    "vcpuNum": 2
   },
   {
    "_defaultOrder": 22,
    "_isFastLaunch": false,
    "category": "Compute optimized",
    "gpuNum": 0,
    "hideHardwareSpecs": false,
    "memoryGiB": 8,
    "name": "ml.c5.xlarge",
    "vcpuNum": 4
   },
   {
    "_defaultOrder": 23,
    "_isFastLaunch": false,
    "category": "Compute optimized",
    "gpuNum": 0,
    "hideHardwareSpecs": false,
    "memoryGiB": 16,
    "name": "ml.c5.2xlarge",
    "vcpuNum": 8
   },
   {
    "_defaultOrder": 24,
    "_isFastLaunch": false,
    "category": "Compute optimized",
    "gpuNum": 0,
    "hideHardwareSpecs": false,
    "memoryGiB": 32,
    "name": "ml.c5.4xlarge",
    "vcpuNum": 16
   },
   {
    "_defaultOrder": 25,
    "_isFastLaunch": false,
    "category": "Compute optimized",
    "gpuNum": 0,
    "hideHardwareSpecs": false,
    "memoryGiB": 72,
    "name": "ml.c5.9xlarge",
    "vcpuNum": 36
   },
   {
    "_defaultOrder": 26,
    "_isFastLaunch": false,
    "category": "Compute optimized",
    "gpuNum": 0,
    "hideHardwareSpecs": false,
    "memoryGiB": 96,
    "name": "ml.c5.12xlarge",
    "vcpuNum": 48
   },
   {
    "_defaultOrder": 27,
    "_isFastLaunch": false,
    "category": "Compute optimized",
    "gpuNum": 0,
    "hideHardwareSpecs": false,
    "memoryGiB": 144,
    "name": "ml.c5.18xlarge",
    "vcpuNum": 72
   },
   {
    "_defaultOrder": 28,
    "_isFastLaunch": false,
    "category": "Compute optimized",
    "gpuNum": 0,
    "hideHardwareSpecs": false,
    "memoryGiB": 192,
    "name": "ml.c5.24xlarge",
    "vcpuNum": 96
   },
   {
    "_defaultOrder": 29,
    "_isFastLaunch": true,
    "category": "Accelerated computing",
    "gpuNum": 1,
    "hideHardwareSpecs": false,
    "memoryGiB": 16,
    "name": "ml.g4dn.xlarge",
    "vcpuNum": 4
   },
   {
    "_defaultOrder": 30,
    "_isFastLaunch": false,
    "category": "Accelerated computing",
    "gpuNum": 1,
    "hideHardwareSpecs": false,
    "memoryGiB": 32,
    "name": "ml.g4dn.2xlarge",
    "vcpuNum": 8
   },
   {
    "_defaultOrder": 31,
    "_isFastLaunch": false,
    "category": "Accelerated computing",
    "gpuNum": 1,
    "hideHardwareSpecs": false,
    "memoryGiB": 64,
    "name": "ml.g4dn.4xlarge",
    "vcpuNum": 16
   },
   {
    "_defaultOrder": 32,
    "_isFastLaunch": false,
    "category": "Accelerated computing",
    "gpuNum": 1,
    "hideHardwareSpecs": false,
    "memoryGiB": 128,
    "name": "ml.g4dn.8xlarge",
    "vcpuNum": 32
   },
   {
    "_defaultOrder": 33,
    "_isFastLaunch": false,
    "category": "Accelerated computing",
    "gpuNum": 4,
    "hideHardwareSpecs": false,
    "memoryGiB": 192,
    "name": "ml.g4dn.12xlarge",
    "vcpuNum": 48
   },
   {
    "_defaultOrder": 34,
    "_isFastLaunch": false,
    "category": "Accelerated computing",
    "gpuNum": 1,
    "hideHardwareSpecs": false,
    "memoryGiB": 256,
    "name": "ml.g4dn.16xlarge",
    "vcpuNum": 64
   },
   {
    "_defaultOrder": 35,
    "_isFastLaunch": false,
    "category": "Accelerated computing",
    "gpuNum": 1,
    "hideHardwareSpecs": false,
    "memoryGiB": 61,
    "name": "ml.p3.2xlarge",
    "vcpuNum": 8
   },
   {
    "_defaultOrder": 36,
    "_isFastLaunch": false,
    "category": "Accelerated computing",
    "gpuNum": 4,
    "hideHardwareSpecs": false,
    "memoryGiB": 244,
    "name": "ml.p3.8xlarge",
    "vcpuNum": 32
   },
   {
    "_defaultOrder": 37,
    "_isFastLaunch": false,
    "category": "Accelerated computing",
    "gpuNum": 8,
    "hideHardwareSpecs": false,
    "memoryGiB": 488,
    "name": "ml.p3.16xlarge",
    "vcpuNum": 64
   },
   {
    "_defaultOrder": 38,
    "_isFastLaunch": false,
    "category": "Accelerated computing",
    "gpuNum": 8,
    "hideHardwareSpecs": false,
    "memoryGiB": 768,
    "name": "ml.p3dn.24xlarge",
    "vcpuNum": 96
   },
   {
    "_defaultOrder": 39,
    "_isFastLaunch": false,
    "category": "Memory Optimized",
    "gpuNum": 0,
    "hideHardwareSpecs": false,
    "memoryGiB": 16,
    "name": "ml.r5.large",
    "vcpuNum": 2
   },
   {
    "_defaultOrder": 40,
    "_isFastLaunch": false,
    "category": "Memory Optimized",
    "gpuNum": 0,
    "hideHardwareSpecs": false,
    "memoryGiB": 32,
    "name": "ml.r5.xlarge",
    "vcpuNum": 4
   },
   {
    "_defaultOrder": 41,
    "_isFastLaunch": false,
    "category": "Memory Optimized",
    "gpuNum": 0,
    "hideHardwareSpecs": false,
    "memoryGiB": 64,
    "name": "ml.r5.2xlarge",
    "vcpuNum": 8
   },
   {
    "_defaultOrder": 42,
    "_isFastLaunch": false,
    "category": "Memory Optimized",
    "gpuNum": 0,
    "hideHardwareSpecs": false,
    "memoryGiB": 128,
    "name": "ml.r5.4xlarge",
    "vcpuNum": 16
   },
   {
    "_defaultOrder": 43,
    "_isFastLaunch": false,
    "category": "Memory Optimized",
    "gpuNum": 0,
    "hideHardwareSpecs": false,
    "memoryGiB": 256,
    "name": "ml.r5.8xlarge",
    "vcpuNum": 32
   },
   {
    "_defaultOrder": 44,
    "_isFastLaunch": false,
    "category": "Memory Optimized",
    "gpuNum": 0,
    "hideHardwareSpecs": false,
    "memoryGiB": 384,
    "name": "ml.r5.12xlarge",
    "vcpuNum": 48
   },
   {
    "_defaultOrder": 45,
    "_isFastLaunch": false,
    "category": "Memory Optimized",
    "gpuNum": 0,
    "hideHardwareSpecs": false,
    "memoryGiB": 512,
    "name": "ml.r5.16xlarge",
    "vcpuNum": 64
   },
   {
    "_defaultOrder": 46,
    "_isFastLaunch": false,
    "category": "Memory Optimized",
    "gpuNum": 0,
    "hideHardwareSpecs": false,
    "memoryGiB": 768,
    "name": "ml.r5.24xlarge",
    "vcpuNum": 96
   },
   {
    "_defaultOrder": 47,
    "_isFastLaunch": false,
    "category": "Accelerated computing",
    "gpuNum": 1,
    "hideHardwareSpecs": false,
    "memoryGiB": 16,
    "name": "ml.g5.xlarge",
    "vcpuNum": 4
   },
   {
    "_defaultOrder": 48,
    "_isFastLaunch": false,
    "category": "Accelerated computing",
    "gpuNum": 1,
    "hideHardwareSpecs": false,
    "memoryGiB": 32,
    "name": "ml.g5.2xlarge",
    "vcpuNum": 8
   },
   {
    "_defaultOrder": 49,
    "_isFastLaunch": false,
    "category": "Accelerated computing",
    "gpuNum": 1,
    "hideHardwareSpecs": false,
    "memoryGiB": 64,
    "name": "ml.g5.4xlarge",
    "vcpuNum": 16
   },
   {
    "_defaultOrder": 50,
    "_isFastLaunch": false,
    "category": "Accelerated computing",
    "gpuNum": 1,
    "hideHardwareSpecs": false,
    "memoryGiB": 128,
    "name": "ml.g5.8xlarge",
    "vcpuNum": 32
   },
   {
    "_defaultOrder": 51,
    "_isFastLaunch": false,
    "category": "Accelerated computing",
    "gpuNum": 1,
    "hideHardwareSpecs": false,
    "memoryGiB": 256,
    "name": "ml.g5.16xlarge",
    "vcpuNum": 64
   },
   {
    "_defaultOrder": 52,
    "_isFastLaunch": false,
    "category": "Accelerated computing",
    "gpuNum": 4,
    "hideHardwareSpecs": false,
    "memoryGiB": 192,
    "name": "ml.g5.12xlarge",
    "vcpuNum": 48
   },
   {
    "_defaultOrder": 53,
    "_isFastLaunch": false,
    "category": "Accelerated computing",
    "gpuNum": 4,
    "hideHardwareSpecs": false,
    "memoryGiB": 384,
    "name": "ml.g5.24xlarge",
    "vcpuNum": 96
   },
   {
    "_defaultOrder": 54,
    "_isFastLaunch": false,
    "category": "Accelerated computing",
    "gpuNum": 8,
    "hideHardwareSpecs": false,
    "memoryGiB": 768,
    "name": "ml.g5.48xlarge",
    "vcpuNum": 192
   }
  ],
  "instance_type": "ml.g4dn.2xlarge",
  "kernelspec": {
   "display_name": "Python 3 (PyTorch 1.13 Python 3.9 GPU Optimized)",
   "language": "python",
   "name": "python3__SAGEMAKER_INTERNAL__arn:aws:sagemaker:us-east-1:081325390199:image/pytorch-1.13-gpu-py39"
  },
  "language_info": {
   "codemirror_mode": {
    "name": "ipython",
    "version": 3
   },
   "file_extension": ".py",
   "mimetype": "text/x-python",
   "name": "python",
   "nbconvert_exporter": "python",
   "pygments_lexer": "ipython3",
   "version": "3.9.16"
  }
 },
 "nbformat": 4,
 "nbformat_minor": 5
}
