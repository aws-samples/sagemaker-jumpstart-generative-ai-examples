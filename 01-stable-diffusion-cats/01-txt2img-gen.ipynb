{
 "cells": [
  {
   "cell_type": "markdown",
   "id": "265a4f08-ec98-4ad8-b4ec-5d9d47808bf6",
   "metadata": {},
   "source": [
    "## Stable Diffusion (Text to Image)"
   ]
  },
  {
   "cell_type": "markdown",
   "id": "4a2fbec7-5272-420d-8e33-01b025886200",
   "metadata": {},
   "source": [
    "#### I. Imports "
   ]
  },
  {
   "cell_type": "code",
   "execution_count": null,
   "id": "66fbd7a7-61ee-436e-9823-f3511477c0e7",
   "metadata": {
    "tags": []
   },
   "outputs": [],
   "source": [
    "from sagemaker.jumpstart.notebook_utils import list_jumpstart_models\n",
    "from sagemaker.utils import name_from_base\n",
    "from sagemaker.predictor import Predictor\n",
    "from sagemaker import get_execution_role\n",
    "from sagemaker.model import Model\n",
    "from sagemaker import script_uris\n",
    "from sagemaker import image_uris\n",
    "from sagemaker import model_uris\n",
    "import matplotlib.pyplot as plt\n",
    "import numpy as np\n",
    "import sagemaker\n",
    "import datetime\n",
    "import logging\n",
    "import boto3\n",
    "import json"
   ]
  },
  {
   "cell_type": "markdown",
   "id": "8361c70a-63f0-4659-a15d-797d9956b548",
   "metadata": {},
   "source": [
    "##### Setup logging "
   ]
  },
  {
   "cell_type": "code",
   "execution_count": null,
   "id": "3ef71c15-85a2-4fcb-9fd9-68622996c6c8",
   "metadata": {
    "tags": []
   },
   "outputs": [],
   "source": [
    "logger = logging.getLogger('sagemaker')\n",
    "logger.setLevel(logging.DEBUG)\n",
    "logger.addHandler(logging.StreamHandler())"
   ]
  },
  {
   "cell_type": "markdown",
   "id": "4a7a1821-ad53-4795-8180-cb12fd60ec94",
   "metadata": {},
   "source": [
    "##### Log versions of dependencies "
   ]
  },
  {
   "cell_type": "code",
   "execution_count": null,
   "id": "90d63c5d-c30b-44df-ad7e-a133add301d6",
   "metadata": {
    "tags": []
   },
   "outputs": [],
   "source": [
    "logger.info(f'[Using sagemaker version: {sagemaker.__version__}]')\n",
    "logger.info(f'[Using boto3 version: {sagemaker.__version__}]')"
   ]
  },
  {
   "cell_type": "markdown",
   "id": "b97c4890-979f-4646-b45e-44c8271cde52",
   "metadata": {
    "tags": []
   },
   "source": [
    "#### II. Setup essentials "
   ]
  },
  {
   "cell_type": "code",
   "execution_count": null,
   "id": "9f21bbf9-d32e-42ff-ab42-bdb1cdea98d1",
   "metadata": {
    "tags": []
   },
   "outputs": [],
   "source": [
    "ROLE = get_execution_role()\n",
    "REGION = boto3.Session().region_name\n",
    "session = sagemaker.Session()\n",
    "logger.info(f'Region: {REGION}')"
   ]
  },
  {
   "cell_type": "markdown",
   "id": "05fd2598-9c1d-4f8f-ba57-fc6035e8f36c",
   "metadata": {},
   "source": [
    "##### List all models from SageMaker JumpStart hub"
   ]
  },
  {
   "cell_type": "code",
   "execution_count": null,
   "id": "8009c4f1-7bf7-49f8-9758-bee5232b2592",
   "metadata": {
    "tags": []
   },
   "outputs": [],
   "source": [
    "models = list_jumpstart_models()\n",
    "logger.info(f'Total number of models in SageMaker JumpStart hub = {len(models)}')"
   ]
  },
  {
   "cell_type": "code",
   "execution_count": null,
   "id": "3fb5504f-23a8-425b-ac11-ff0185292566",
   "metadata": {
    "tags": []
   },
   "outputs": [],
   "source": [
    "FILTER = 'task == txt2img'\n",
    "txt2img_models = list_jumpstart_models(filter=FILTER)\n",
    "txt2img_models"
   ]
  },
  {
   "cell_type": "code",
   "execution_count": null,
   "id": "eda22cde-eba1-4ac3-8bf7-101a9164dcaa",
   "metadata": {
    "tags": []
   },
   "outputs": [],
   "source": [
    "MODEL_ID = 'model-txt2img-stabilityai-stable-diffusion-v2-1-base'\n",
    "MODEL_VERSION = '*'  # latest\n",
    "SCOPE = 'inference'\n",
    "INFERENCE_INSTANCE_TYPE = 'ml.g5.xlarge'# 'ml.p3.2xlarge'  # prefered"
   ]
  },
  {
   "cell_type": "markdown",
   "id": "9e392753-cfba-48ac-ae09-29dc83579206",
   "metadata": {
    "tags": []
   },
   "source": [
    "#### III. Retrieve inference artifacts "
   ]
  },
  {
   "cell_type": "code",
   "execution_count": null,
   "id": "ede6c29e-457d-4ac5-9346-db467e147c76",
   "metadata": {
    "tags": []
   },
   "outputs": [],
   "source": [
    "inference_image_uri = image_uris.retrieve(region=REGION, \n",
    "                                          framework=None,\n",
    "                                          model_id=MODEL_ID, \n",
    "                                          model_version=MODEL_VERSION, \n",
    "                                          image_scope=SCOPE, \n",
    "                                          instance_type=INFERENCE_INSTANCE_TYPE)\n",
    "logger.info(f'Inference image URI: {inference_image_uri}')"
   ]
  },
  {
   "cell_type": "code",
   "execution_count": null,
   "id": "0c76f5a9-e415-45cd-82ec-8d21eede52b2",
   "metadata": {
    "tags": []
   },
   "outputs": [],
   "source": [
    "inference_source_uri = script_uris.retrieve(model_id=MODEL_ID, \n",
    "                                            model_version=MODEL_VERSION, \n",
    "                                            script_scope=SCOPE)\n",
    "logger.info(f'Inference source URI: {inference_source_uri}')"
   ]
  },
  {
   "cell_type": "code",
   "execution_count": null,
   "id": "7e2ec79a-5c05-4e13-83aa-8c88853e2a34",
   "metadata": {
    "tags": []
   },
   "outputs": [],
   "source": [
    "inference_model_uri = model_uris.retrieve(model_id=MODEL_ID, \n",
    "                                          model_version=MODEL_VERSION, \n",
    "                                          model_scope=SCOPE)\n",
    "logger.info(f'Inference model URI: {inference_model_uri}')"
   ]
  },
  {
   "cell_type": "code",
   "execution_count": null,
   "id": "d3996331-1843-482e-96ce-076419b2fc51",
   "metadata": {
    "tags": []
   },
   "outputs": [],
   "source": [
    "# To increase the maximum response size from the endpoint\n",
    "env = {'MMS_MAX_RESPONSE_SIZE': '20000000'}"
   ]
  },
  {
   "cell_type": "code",
   "execution_count": null,
   "id": "cecb042d-98b0-40ee-ada4-96ce8f0e0be1",
   "metadata": {
    "tags": []
   },
   "outputs": [],
   "source": [
    "current_time = datetime.datetime.now().strftime('%Y%m%d%H%M%S')\n",
    "endpoint_name = f'js-sd-{current_time}'\n",
    "logger.info(f'Endpoint name = {endpoint_name}')"
   ]
  },
  {
   "cell_type": "code",
   "execution_count": null,
   "id": "83e446e5-ddba-4cfd-b2cf-a24ef8f6abc3",
   "metadata": {
    "tags": []
   },
   "outputs": [],
   "source": [
    "model = Model(image_uri=inference_image_uri,\n",
    "              source_dir=inference_source_uri,\n",
    "              model_data=inference_model_uri,\n",
    "              entry_point='inference.py',  \n",
    "              role=ROLE,\n",
    "              predictor_cls=Predictor,\n",
    "              name=endpoint_name,\n",
    "              env=env)"
   ]
  },
  {
   "cell_type": "markdown",
   "id": "dcb9c694-2776-4616-9d9a-07b60b467868",
   "metadata": {
    "tags": []
   },
   "source": [
    "#### IV. Deploy Stable Diffusion model as a SageMaker endpoint"
   ]
  },
  {
   "cell_type": "markdown",
   "id": "eafb5298-e153-4a14-a198-974d45e80911",
   "metadata": {},
   "source": [
    "Takes around 11 to 14 mins"
   ]
  },
  {
   "cell_type": "code",
   "execution_count": null,
   "id": "9805808a-af94-43e8-9faf-1a4115055146",
   "metadata": {
    "tags": []
   },
   "outputs": [],
   "source": [
    "%%time\n",
    "\n",
    "_ = model.deploy(initial_instance_count=1, \n",
    "                 instance_type=INFERENCE_INSTANCE_TYPE, \n",
    "                 predictor_cls=Predictor, \n",
    "                 endpoint_name=endpoint_name)"
   ]
  },
  {
   "cell_type": "markdown",
   "id": "91d084cd-5196-4018-a707-4f77d3a0be02",
   "metadata": {},
   "source": [
    "#### V. Invoke the endpoint for inference "
   ]
  },
  {
   "cell_type": "code",
   "execution_count": null,
   "id": "e156c672-a1b8-4304-ab56-a39788d72997",
   "metadata": {
    "tags": []
   },
   "outputs": [],
   "source": [
    "ENDPOINT_NAME = 'js-sd-20230509001303' # update the endpoint name to the endpoint that has been deployed"
   ]
  },
  {
   "cell_type": "code",
   "execution_count": null,
   "id": "f6bdd931-032b-4a40-baa4-448e71e267ef",
   "metadata": {
    "tags": []
   },
   "outputs": [],
   "source": [
    "client = boto3.client('sagemaker-runtime')"
   ]
  },
  {
   "cell_type": "code",
   "execution_count": null,
   "id": "e4fcef86-6f16-46c2-a93b-480f9ea781f7",
   "metadata": {
    "tags": []
   },
   "outputs": [],
   "source": [
    "prompt = 'Cat in a space suit'"
   ]
  },
  {
   "cell_type": "code",
   "execution_count": null,
   "id": "0a214283-e30b-4c4b-9030-7b928da3912c",
   "metadata": {
    "tags": []
   },
   "outputs": [],
   "source": [
    "%%time\n",
    "\n",
    "response = client.invoke_endpoint(EndpointName=endpoint_name, \n",
    "                                  Body=prompt, \n",
    "                                  ContentType='application/x-text')"
   ]
  },
  {
   "cell_type": "code",
   "execution_count": null,
   "id": "4bb81cc0-8345-4edc-86c2-7379d6627fa0",
   "metadata": {
    "tags": []
   },
   "outputs": [],
   "source": [
    "response_body = json.loads(response['Body'].read().decode())\n",
    "generated_image = response_body['generated_image']"
   ]
  },
  {
   "cell_type": "code",
   "execution_count": null,
   "id": "ae2a8cd2-4861-482d-9f67-c814cf8e2109",
   "metadata": {
    "tags": []
   },
   "outputs": [],
   "source": [
    "plt.figure(figsize=(12, 12))\n",
    "plt.imshow(np.array(generated_image))\n",
    "plt.axis('off')\n",
    "plt.title(prompt)\n",
    "plt.show()"
   ]
  },
  {
   "cell_type": "markdown",
   "id": "d3f01ff2-faac-42e3-a859-1682b5a175c4",
   "metadata": {},
   "source": [
    "##### Invoke the model with generation parameters"
   ]
  },
  {
   "cell_type": "code",
   "execution_count": null,
   "id": "83fad3bc-6412-4f2e-b385-045bb37de39c",
   "metadata": {
    "tags": []
   },
   "outputs": [],
   "source": [
    "prompt = \"\"\"a cute magical flying cat, fantasy art drawn by disney concept artists, golden colour, high quality, highly detailed, elegant, sharp focus, concept art, character concepts, digital painting, mystery, adventure\"\"\""
   ]
  },
  {
   "cell_type": "markdown",
   "id": "b4619280-0845-4487-9a91-d22f117a2118",
   "metadata": {},
   "source": [
    "* **`num_images_per_prompt`**: The num_images_per_prompt is the number of images that you want to generate for each prompt. It can be any positive integer value.\n",
    "* **`num_inference_steps`**: The num_inference_steps is the number of steps that the image generator will take to create an image. It can be any positive integer value, but higher values may take longer time and consume more resources.\n",
    "* **`guidance_scale`**: The guidance_scale is a parameter that controls how much the image generator will follow the prompt. It can be any positive decimal value, but higher values may result in more realistic images that match the prompt."
   ]
  },
  {
   "cell_type": "markdown",
   "id": "87924676-d253-4ac7-8b52-2c6212764df0",
   "metadata": {},
   "source": [
    "> **`num_inference_steps`** is the number of denoising steps that the image generator will take to create an image. Denoising steps are a process of removing noise from an image by applying a diffusion model that gradually refines the image quality. The more denoising steps you use, the higher quality image you can get, but it will also take longer time and consume more resources. The default value for num_inference_steps is `50`, which works well for most cases3. You can change this value according to your needs and preferences."
   ]
  },
  {
   "cell_type": "code",
   "execution_count": null,
   "id": "3615b360-5ca3-4ffc-99b5-19e7586d574e",
   "metadata": {
    "tags": []
   },
   "outputs": [],
   "source": [
    "payload = {'prompt': prompt,\n",
    "           'num_images_per_prompt': 1, \n",
    "           'num_inference_steps': 50, \n",
    "           'guidance_scale': 7.5\n",
    "          }"
   ]
  },
  {
   "cell_type": "code",
   "execution_count": null,
   "id": "a5f8dcc2-c24a-4490-ac42-fc973e37cb68",
   "metadata": {
    "tags": []
   },
   "outputs": [],
   "source": [
    "payload = json.dumps(payload).encode('utf-8')"
   ]
  },
  {
   "cell_type": "code",
   "execution_count": null,
   "id": "f1febd50-fb28-4604-8de1-6d8e235ef3d6",
   "metadata": {
    "tags": []
   },
   "outputs": [],
   "source": [
    "%%time\n",
    "\n",
    "response = client.invoke_endpoint(EndpointName=endpoint_name, \n",
    "                                  Body=payload, \n",
    "                                  ContentType='application/x-text')"
   ]
  },
  {
   "cell_type": "code",
   "execution_count": null,
   "id": "c235d3f5-1fcf-4f8d-919f-dd4b267a1a0f",
   "metadata": {
    "tags": []
   },
   "outputs": [],
   "source": [
    "response_body = json.loads(response['Body'].read().decode())\n",
    "generated_image = response_body['generated_image']"
   ]
  },
  {
   "cell_type": "code",
   "execution_count": null,
   "id": "59c40921-c107-4b05-81b4-b84d9057f15a",
   "metadata": {
    "tags": []
   },
   "outputs": [],
   "source": [
    "plt.figure(figsize=(12, 12))\n",
    "plt.imshow(np.array(generated_image))\n",
    "plt.axis('off')\n",
    "plt.title(prompt)\n",
    "plt.show()"
   ]
  },
  {
   "cell_type": "code",
   "execution_count": null,
   "id": "09fa7786-55b9-486a-8362-fe402d350893",
   "metadata": {},
   "outputs": [],
   "source": []
  }
 ],
 "metadata": {
  "availableInstances": [
   {
    "_defaultOrder": 0,
    "_isFastLaunch": true,
    "category": "General purpose",
    "gpuNum": 0,
    "hideHardwareSpecs": false,
    "memoryGiB": 4,
    "name": "ml.t3.medium",
    "vcpuNum": 2
   },
   {
    "_defaultOrder": 1,
    "_isFastLaunch": false,
    "category": "General purpose",
    "gpuNum": 0,
    "hideHardwareSpecs": false,
    "memoryGiB": 8,
    "name": "ml.t3.large",
    "vcpuNum": 2
   },
   {
    "_defaultOrder": 2,
    "_isFastLaunch": false,
    "category": "General purpose",
    "gpuNum": 0,
    "hideHardwareSpecs": false,
    "memoryGiB": 16,
    "name": "ml.t3.xlarge",
    "vcpuNum": 4
   },
   {
    "_defaultOrder": 3,
    "_isFastLaunch": false,
    "category": "General purpose",
    "gpuNum": 0,
    "hideHardwareSpecs": false,
    "memoryGiB": 32,
    "name": "ml.t3.2xlarge",
    "vcpuNum": 8
   },
   {
    "_defaultOrder": 4,
    "_isFastLaunch": true,
    "category": "General purpose",
    "gpuNum": 0,
    "hideHardwareSpecs": false,
    "memoryGiB": 8,
    "name": "ml.m5.large",
    "vcpuNum": 2
   },
   {
    "_defaultOrder": 5,
    "_isFastLaunch": false,
    "category": "General purpose",
    "gpuNum": 0,
    "hideHardwareSpecs": false,
    "memoryGiB": 16,
    "name": "ml.m5.xlarge",
    "vcpuNum": 4
   },
   {
    "_defaultOrder": 6,
    "_isFastLaunch": false,
    "category": "General purpose",
    "gpuNum": 0,
    "hideHardwareSpecs": false,
    "memoryGiB": 32,
    "name": "ml.m5.2xlarge",
    "vcpuNum": 8
   },
   {
    "_defaultOrder": 7,
    "_isFastLaunch": false,
    "category": "General purpose",
    "gpuNum": 0,
    "hideHardwareSpecs": false,
    "memoryGiB": 64,
    "name": "ml.m5.4xlarge",
    "vcpuNum": 16
   },
   {
    "_defaultOrder": 8,
    "_isFastLaunch": false,
    "category": "General purpose",
    "gpuNum": 0,
    "hideHardwareSpecs": false,
    "memoryGiB": 128,
    "name": "ml.m5.8xlarge",
    "vcpuNum": 32
   },
   {
    "_defaultOrder": 9,
    "_isFastLaunch": false,
    "category": "General purpose",
    "gpuNum": 0,
    "hideHardwareSpecs": false,
    "memoryGiB": 192,
    "name": "ml.m5.12xlarge",
    "vcpuNum": 48
   },
   {
    "_defaultOrder": 10,
    "_isFastLaunch": false,
    "category": "General purpose",
    "gpuNum": 0,
    "hideHardwareSpecs": false,
    "memoryGiB": 256,
    "name": "ml.m5.16xlarge",
    "vcpuNum": 64
   },
   {
    "_defaultOrder": 11,
    "_isFastLaunch": false,
    "category": "General purpose",
    "gpuNum": 0,
    "hideHardwareSpecs": false,
    "memoryGiB": 384,
    "name": "ml.m5.24xlarge",
    "vcpuNum": 96
   },
   {
    "_defaultOrder": 12,
    "_isFastLaunch": false,
    "category": "General purpose",
    "gpuNum": 0,
    "hideHardwareSpecs": false,
    "memoryGiB": 8,
    "name": "ml.m5d.large",
    "vcpuNum": 2
   },
   {
    "_defaultOrder": 13,
    "_isFastLaunch": false,
    "category": "General purpose",
    "gpuNum": 0,
    "hideHardwareSpecs": false,
    "memoryGiB": 16,
    "name": "ml.m5d.xlarge",
    "vcpuNum": 4
   },
   {
    "_defaultOrder": 14,
    "_isFastLaunch": false,
    "category": "General purpose",
    "gpuNum": 0,
    "hideHardwareSpecs": false,
    "memoryGiB": 32,
    "name": "ml.m5d.2xlarge",
    "vcpuNum": 8
   },
   {
    "_defaultOrder": 15,
    "_isFastLaunch": false,
    "category": "General purpose",
    "gpuNum": 0,
    "hideHardwareSpecs": false,
    "memoryGiB": 64,
    "name": "ml.m5d.4xlarge",
    "vcpuNum": 16
   },
   {
    "_defaultOrder": 16,
    "_isFastLaunch": false,
    "category": "General purpose",
    "gpuNum": 0,
    "hideHardwareSpecs": false,
    "memoryGiB": 128,
    "name": "ml.m5d.8xlarge",
    "vcpuNum": 32
   },
   {
    "_defaultOrder": 17,
    "_isFastLaunch": false,
    "category": "General purpose",
    "gpuNum": 0,
    "hideHardwareSpecs": false,
    "memoryGiB": 192,
    "name": "ml.m5d.12xlarge",
    "vcpuNum": 48
   },
   {
    "_defaultOrder": 18,
    "_isFastLaunch": false,
    "category": "General purpose",
    "gpuNum": 0,
    "hideHardwareSpecs": false,
    "memoryGiB": 256,
    "name": "ml.m5d.16xlarge",
    "vcpuNum": 64
   },
   {
    "_defaultOrder": 19,
    "_isFastLaunch": false,
    "category": "General purpose",
    "gpuNum": 0,
    "hideHardwareSpecs": false,
    "memoryGiB": 384,
    "name": "ml.m5d.24xlarge",
    "vcpuNum": 96
   },
   {
    "_defaultOrder": 20,
    "_isFastLaunch": false,
    "category": "General purpose",
    "gpuNum": 0,
    "hideHardwareSpecs": true,
    "memoryGiB": 0,
    "name": "ml.geospatial.interactive",
    "supportedImageNames": [
     "sagemaker-geospatial-v1-0"
    ],
    "vcpuNum": 0
   },
   {
    "_defaultOrder": 21,
    "_isFastLaunch": true,
    "category": "Compute optimized",
    "gpuNum": 0,
    "hideHardwareSpecs": false,
    "memoryGiB": 4,
    "name": "ml.c5.large",
    "vcpuNum": 2
   },
   {
    "_defaultOrder": 22,
    "_isFastLaunch": false,
    "category": "Compute optimized",
    "gpuNum": 0,
    "hideHardwareSpecs": false,
    "memoryGiB": 8,
    "name": "ml.c5.xlarge",
    "vcpuNum": 4
   },
   {
    "_defaultOrder": 23,
    "_isFastLaunch": false,
    "category": "Compute optimized",
    "gpuNum": 0,
    "hideHardwareSpecs": false,
    "memoryGiB": 16,
    "name": "ml.c5.2xlarge",
    "vcpuNum": 8
   },
   {
    "_defaultOrder": 24,
    "_isFastLaunch": false,
    "category": "Compute optimized",
    "gpuNum": 0,
    "hideHardwareSpecs": false,
    "memoryGiB": 32,
    "name": "ml.c5.4xlarge",
    "vcpuNum": 16
   },
   {
    "_defaultOrder": 25,
    "_isFastLaunch": false,
    "category": "Compute optimized",
    "gpuNum": 0,
    "hideHardwareSpecs": false,
    "memoryGiB": 72,
    "name": "ml.c5.9xlarge",
    "vcpuNum": 36
   },
   {
    "_defaultOrder": 26,
    "_isFastLaunch": false,
    "category": "Compute optimized",
    "gpuNum": 0,
    "hideHardwareSpecs": false,
    "memoryGiB": 96,
    "name": "ml.c5.12xlarge",
    "vcpuNum": 48
   },
   {
    "_defaultOrder": 27,
    "_isFastLaunch": false,
    "category": "Compute optimized",
    "gpuNum": 0,
    "hideHardwareSpecs": false,
    "memoryGiB": 144,
    "name": "ml.c5.18xlarge",
    "vcpuNum": 72
   },
   {
    "_defaultOrder": 28,
    "_isFastLaunch": false,
    "category": "Compute optimized",
    "gpuNum": 0,
    "hideHardwareSpecs": false,
    "memoryGiB": 192,
    "name": "ml.c5.24xlarge",
    "vcpuNum": 96
   },
   {
    "_defaultOrder": 29,
    "_isFastLaunch": true,
    "category": "Accelerated computing",
    "gpuNum": 1,
    "hideHardwareSpecs": false,
    "memoryGiB": 16,
    "name": "ml.g4dn.xlarge",
    "vcpuNum": 4
   },
   {
    "_defaultOrder": 30,
    "_isFastLaunch": false,
    "category": "Accelerated computing",
    "gpuNum": 1,
    "hideHardwareSpecs": false,
    "memoryGiB": 32,
    "name": "ml.g4dn.2xlarge",
    "vcpuNum": 8
   },
   {
    "_defaultOrder": 31,
    "_isFastLaunch": false,
    "category": "Accelerated computing",
    "gpuNum": 1,
    "hideHardwareSpecs": false,
    "memoryGiB": 64,
    "name": "ml.g4dn.4xlarge",
    "vcpuNum": 16
   },
   {
    "_defaultOrder": 32,
    "_isFastLaunch": false,
    "category": "Accelerated computing",
    "gpuNum": 1,
    "hideHardwareSpecs": false,
    "memoryGiB": 128,
    "name": "ml.g4dn.8xlarge",
    "vcpuNum": 32
   },
   {
    "_defaultOrder": 33,
    "_isFastLaunch": false,
    "category": "Accelerated computing",
    "gpuNum": 4,
    "hideHardwareSpecs": false,
    "memoryGiB": 192,
    "name": "ml.g4dn.12xlarge",
    "vcpuNum": 48
   },
   {
    "_defaultOrder": 34,
    "_isFastLaunch": false,
    "category": "Accelerated computing",
    "gpuNum": 1,
    "hideHardwareSpecs": false,
    "memoryGiB": 256,
    "name": "ml.g4dn.16xlarge",
    "vcpuNum": 64
   },
   {
    "_defaultOrder": 35,
    "_isFastLaunch": false,
    "category": "Accelerated computing",
    "gpuNum": 1,
    "hideHardwareSpecs": false,
    "memoryGiB": 61,
    "name": "ml.p3.2xlarge",
    "vcpuNum": 8
   },
   {
    "_defaultOrder": 36,
    "_isFastLaunch": false,
    "category": "Accelerated computing",
    "gpuNum": 4,
    "hideHardwareSpecs": false,
    "memoryGiB": 244,
    "name": "ml.p3.8xlarge",
    "vcpuNum": 32
   },
   {
    "_defaultOrder": 37,
    "_isFastLaunch": false,
    "category": "Accelerated computing",
    "gpuNum": 8,
    "hideHardwareSpecs": false,
    "memoryGiB": 488,
    "name": "ml.p3.16xlarge",
    "vcpuNum": 64
   },
   {
    "_defaultOrder": 38,
    "_isFastLaunch": false,
    "category": "Accelerated computing",
    "gpuNum": 8,
    "hideHardwareSpecs": false,
    "memoryGiB": 768,
    "name": "ml.p3dn.24xlarge",
    "vcpuNum": 96
   },
   {
    "_defaultOrder": 39,
    "_isFastLaunch": false,
    "category": "Memory Optimized",
    "gpuNum": 0,
    "hideHardwareSpecs": false,
    "memoryGiB": 16,
    "name": "ml.r5.large",
    "vcpuNum": 2
   },
   {
    "_defaultOrder": 40,
    "_isFastLaunch": false,
    "category": "Memory Optimized",
    "gpuNum": 0,
    "hideHardwareSpecs": false,
    "memoryGiB": 32,
    "name": "ml.r5.xlarge",
    "vcpuNum": 4
   },
   {
    "_defaultOrder": 41,
    "_isFastLaunch": false,
    "category": "Memory Optimized",
    "gpuNum": 0,
    "hideHardwareSpecs": false,
    "memoryGiB": 64,
    "name": "ml.r5.2xlarge",
    "vcpuNum": 8
   },
   {
    "_defaultOrder": 42,
    "_isFastLaunch": false,
    "category": "Memory Optimized",
    "gpuNum": 0,
    "hideHardwareSpecs": false,
    "memoryGiB": 128,
    "name": "ml.r5.4xlarge",
    "vcpuNum": 16
   },
   {
    "_defaultOrder": 43,
    "_isFastLaunch": false,
    "category": "Memory Optimized",
    "gpuNum": 0,
    "hideHardwareSpecs": false,
    "memoryGiB": 256,
    "name": "ml.r5.8xlarge",
    "vcpuNum": 32
   },
   {
    "_defaultOrder": 44,
    "_isFastLaunch": false,
    "category": "Memory Optimized",
    "gpuNum": 0,
    "hideHardwareSpecs": false,
    "memoryGiB": 384,
    "name": "ml.r5.12xlarge",
    "vcpuNum": 48
   },
   {
    "_defaultOrder": 45,
    "_isFastLaunch": false,
    "category": "Memory Optimized",
    "gpuNum": 0,
    "hideHardwareSpecs": false,
    "memoryGiB": 512,
    "name": "ml.r5.16xlarge",
    "vcpuNum": 64
   },
   {
    "_defaultOrder": 46,
    "_isFastLaunch": false,
    "category": "Memory Optimized",
    "gpuNum": 0,
    "hideHardwareSpecs": false,
    "memoryGiB": 768,
    "name": "ml.r5.24xlarge",
    "vcpuNum": 96
   },
   {
    "_defaultOrder": 47,
    "_isFastLaunch": false,
    "category": "Accelerated computing",
    "gpuNum": 1,
    "hideHardwareSpecs": false,
    "memoryGiB": 16,
    "name": "ml.g5.xlarge",
    "vcpuNum": 4
   },
   {
    "_defaultOrder": 48,
    "_isFastLaunch": false,
    "category": "Accelerated computing",
    "gpuNum": 1,
    "hideHardwareSpecs": false,
    "memoryGiB": 32,
    "name": "ml.g5.2xlarge",
    "vcpuNum": 8
   },
   {
    "_defaultOrder": 49,
    "_isFastLaunch": false,
    "category": "Accelerated computing",
    "gpuNum": 1,
    "hideHardwareSpecs": false,
    "memoryGiB": 64,
    "name": "ml.g5.4xlarge",
    "vcpuNum": 16
   },
   {
    "_defaultOrder": 50,
    "_isFastLaunch": false,
    "category": "Accelerated computing",
    "gpuNum": 1,
    "hideHardwareSpecs": false,
    "memoryGiB": 128,
    "name": "ml.g5.8xlarge",
    "vcpuNum": 32
   },
   {
    "_defaultOrder": 51,
    "_isFastLaunch": false,
    "category": "Accelerated computing",
    "gpuNum": 1,
    "hideHardwareSpecs": false,
    "memoryGiB": 256,
    "name": "ml.g5.16xlarge",
    "vcpuNum": 64
   },
   {
    "_defaultOrder": 52,
    "_isFastLaunch": false,
    "category": "Accelerated computing",
    "gpuNum": 4,
    "hideHardwareSpecs": false,
    "memoryGiB": 192,
    "name": "ml.g5.12xlarge",
    "vcpuNum": 48
   },
   {
    "_defaultOrder": 53,
    "_isFastLaunch": false,
    "category": "Accelerated computing",
    "gpuNum": 4,
    "hideHardwareSpecs": false,
    "memoryGiB": 384,
    "name": "ml.g5.24xlarge",
    "vcpuNum": 96
   },
   {
    "_defaultOrder": 54,
    "_isFastLaunch": false,
    "category": "Accelerated computing",
    "gpuNum": 8,
    "hideHardwareSpecs": false,
    "memoryGiB": 768,
    "name": "ml.g5.48xlarge",
    "vcpuNum": 192
   }
  ],
  "instance_type": "ml.t3.medium",
  "kernelspec": {
   "display_name": "Python 3 (Data Science)",
   "language": "python",
   "name": "python3__SAGEMAKER_INTERNAL__arn:aws:sagemaker:us-east-1:081325390199:image/datascience-1.0"
  },
  "language_info": {
   "codemirror_mode": {
    "name": "ipython",
    "version": 3
   },
   "file_extension": ".py",
   "mimetype": "text/x-python",
   "name": "python",
   "nbconvert_exporter": "python",
   "pygments_lexer": "ipython3",
   "version": "3.7.10"
  }
 },
 "nbformat": 4,
 "nbformat_minor": 5
}
